{
  "nbformat": 4,
  "nbformat_minor": 0,
  "metadata": {
    "colab": {
      "provenance": [],
      "authorship_tag": "ABX9TyOqEPLYUoLskdDk6VD//Gax",
      "include_colab_link": true
    },
    "kernelspec": {
      "name": "python3",
      "display_name": "Python 3"
    },
    "language_info": {
      "name": "python"
    }
  },
  "cells": [
    {
      "cell_type": "markdown",
      "metadata": {
        "id": "view-in-github",
        "colab_type": "text"
      },
      "source": [
        "<a href=\"https://colab.research.google.com/github/SalmaSherif7070/Neural-Network-from-scratch-/blob/main/A4_%7C_ML_%7C_NN_from_scratch_%7C_Salma_Sherif_2022200622.ipynb\" target=\"_parent\"><img src=\"https://colab.research.google.com/assets/colab-badge.svg\" alt=\"Open In Colab\"/></a>"
      ]
    },
    {
      "cell_type": "code",
      "execution_count": null,
      "metadata": {
        "id": "sieqbujbCJs4"
      },
      "outputs": [],
      "source": [
        "import numpy as np\n",
        "import pandas as pd\n",
        "from keras.datasets import mnist\n",
        "import matplotlib.pyplot as plt\n",
        "from sklearn.metrics import confusion_matrix"
      ]
    },
    {
      "cell_type": "code",
      "source": [
        "(x_train, y_train), (x_test, y_test) = mnist.load_data()\n",
        "\n",
        "x_train = x_train.reshape((x_train.shape[0], -1)) / 255.\n",
        "x_test = x_test.reshape((x_test.shape[0], -1)) /255.\n",
        "\n",
        "y_train = np.eye(10)[y_train]\n",
        "y_test = np.eye(10)[y_test]"
      ],
      "metadata": {
        "id": "pKGNXLPOGlli"
      },
      "execution_count": null,
      "outputs": []
    },
    {
      "cell_type": "code",
      "source": [
        "# random weights\n",
        "w1 = np.random.randn(784, 64)\n",
        "w2= np.random.randn(64, 10)\n",
        "# w_b1 = np.random.randn(1, 64)\n",
        "# w_b2 = np.random.randn(1, 10)\n",
        "\n",
        "w_b1 = np.ones((1, 64))\n",
        "w_b2 = np.ones((1, 10))\n",
        "def sigmoid(z):\n",
        "    s = 1. / (1. + np.exp(-z))\n",
        "    return s"
      ],
      "metadata": {
        "id": "6oGjV55BM3Gp"
      },
      "execution_count": null,
      "outputs": []
    },
    {
      "cell_type": "code",
      "source": [
        "b = 1.0\n",
        "LR =  0.01\n",
        "for j in range (20):\n",
        "  for i in range (len(x_train)):\n",
        "    # Forward\n",
        "    netj_1 = np.dot(x_train[i].T, w1) + w_b1 * b\n",
        "    activation1 = sigmoid(netj_1)\n",
        "    netj_2 = np.dot(activation1, w2) + w_b2 * b\n",
        "    activation2 = sigmoid(netj_2)\n",
        "    # print(activation1)\n",
        "\n",
        "    # loss fun\n",
        "    array_ones = np.ones(activation2.shape)\n",
        "    o_error =  (y_train[i] - activation2)\n",
        "    sigma_2 = (activation2* (array_ones-activation2)) * o_error\n",
        "    Delata_2 =  np.dot(netj_1.T, sigma_2) * LR\n",
        "    w2 = w2 + Delata_2\n",
        "    # print(w2)\n",
        "\n",
        "    array_ones = np.ones(activation1.shape)\n",
        "    h_error = np.dot(sigma_2, w2.T)\n",
        "    sigma_1 = (activation1*(array_ones-activation1))* h_error\n",
        "    Delata_1 =  np.dot(x_train[i].reshape(-1, 1), sigma_1) *  LR\n",
        "    w1 = w1 + Delata_1\n",
        "\n",
        "\n",
        "    w_b2 += LR * sigma_2 * b\n",
        "    w_b1 += LR * sigma_1 * b\n",
        "\n",
        "  print(j)"
      ],
      "metadata": {
        "id": "HBVrtumBM_ZS",
        "colab": {
          "base_uri": "https://localhost:8080/"
        },
        "outputId": "6162b68f-3afe-4d51-e2c4-2ff11d511cb6"
      },
      "execution_count": null,
      "outputs": [
        {
          "output_type": "stream",
          "name": "stdout",
          "text": [
            "0\n",
            "1\n",
            "2\n",
            "3\n",
            "4\n",
            "5\n",
            "6\n",
            "7\n",
            "8\n",
            "9\n",
            "10\n",
            "11\n",
            "12\n",
            "13\n",
            "14\n",
            "15\n",
            "16\n",
            "17\n",
            "18\n",
            "19\n"
          ]
        }
      ]
    },
    {
      "cell_type": "code",
      "source": [
        "netj_1 = np.dot(x_test, w1) + w_b1\n",
        "activation1 = sigmoid(netj_1)\n",
        "netj_2 = np.dot(activation1, w2) + w_b2\n",
        "activation2 = sigmoid(netj_2)"
      ],
      "metadata": {
        "id": "qQJvipyfnGta"
      },
      "execution_count": null,
      "outputs": []
    },
    {
      "cell_type": "code",
      "source": [
        "predictions = np.argmax(activation2, axis = 1)\n",
        "y_test_labels = np.argmax(y_test, axis = 1)\n",
        "accuracy = np.mean(predictions == y_test_labels)\n",
        "print(f\"Accuracy = {accuracy*100} %\")"
      ],
      "metadata": {
        "colab": {
          "base_uri": "https://localhost:8080/"
        },
        "id": "EAJwHKRrnX0C",
        "outputId": "2387c526-9054-4c9b-be14-79bfe5f8c0d1"
      },
      "execution_count": null,
      "outputs": [
        {
          "output_type": "stream",
          "name": "stdout",
          "text": [
            "Accuracy = 90.49000000000001 %\n"
          ]
        }
      ]
    },
    {
      "cell_type": "code",
      "source": [
        "conf_matrix = confusion_matrix(y_test_labels, predictions)\n",
        "print(\"Confusion Matrix: \", conf_matrix)"
      ],
      "metadata": {
        "colab": {
          "base_uri": "https://localhost:8080/"
        },
        "id": "1aCGmZPH54z6",
        "outputId": "ad375415-0d28-4502-a4e8-beba2e41e16b"
      },
      "execution_count": null,
      "outputs": [
        {
          "output_type": "stream",
          "name": "stdout",
          "text": [
            "Confusion Matrix:  [[ 960    0    3    0    1    1    9    1    4    1]\n",
            " [   0 1118    3    4    1    0    4    1    3    1]\n",
            " [  12    3  903   18   15    3   12   15   40   11]\n",
            " [  10    4   21  893    1   28    5   13   26    9]\n",
            " [   4    6    7    3  886    1   20    5   11   39]\n",
            " [  18    2    4   32   19  715   22   17   55    8]\n",
            " [  15    4   12    3    8   15  889    2   10    0]\n",
            " [   3   14   24    5   10    2    0  932    4   34]\n",
            " [  11    7    7   20   14   12   10    9  866   18]\n",
            " [   7    7    1    9   42   15    2   18   21  887]]\n"
          ]
        }
      ]
    },
    {
      "cell_type": "code",
      "source": [],
      "metadata": {
        "id": "rAxvGgLB6XTk"
      },
      "execution_count": null,
      "outputs": []
    }
  ]
}