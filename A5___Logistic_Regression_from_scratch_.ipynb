{
  "nbformat": 4,
  "nbformat_minor": 0,
  "metadata": {
    "colab": {
      "provenance": [],
      "toc_visible": true,
      "authorship_tag": "ABX9TyNYhqXGGDKh2gwNyvND78hH",
      "include_colab_link": true
    },
    "kernelspec": {
      "name": "python3",
      "display_name": "Python 3"
    },
    "language_info": {
      "name": "python"
    }
  },
  "cells": [
    {
      "cell_type": "markdown",
      "metadata": {
        "id": "view-in-github",
        "colab_type": "text"
      },
      "source": [
        "<a href=\"https://colab.research.google.com/github/SalmaSherif7070/Logistic-Regression-from-scratch-/blob/main/A5_%7C_Logistic_Regression_from_scratch_%7C_Salma_Sherif_2022200622.ipynb\" target=\"_parent\"><img src=\"https://colab.research.google.com/assets/colab-badge.svg\" alt=\"Open In Colab\"/></a>"
      ]
    },
    {
      "cell_type": "markdown",
      "source": [
        "# Importing"
      ],
      "metadata": {
        "id": "kLQkDpyyLeLO"
      }
    },
    {
      "cell_type": "code",
      "execution_count": null,
      "metadata": {
        "id": "ZO0-0MfGg8ql"
      },
      "outputs": [],
      "source": [
        "!pip install --quiet kaggle\n",
        "!pip3 install --quiet neptune-client==1.2.0\n",
        "!pip install --quiet opendatasets"
      ]
    },
    {
      "cell_type": "code",
      "source": [
        "import opendatasets as od\n",
        "import json\n",
        "import numpy as np\n",
        "import pandas as pd\n",
        "from sklearn.preprocessing import StandardScaler\n",
        "from sklearn.model_selection import train_test_split\n",
        "from sklearn.metrics import accuracy_score, recall_score, precision_score, f1_score"
      ],
      "metadata": {
        "id": "4sm4DeyXIlSn"
      },
      "execution_count": null,
      "outputs": []
    },
    {
      "cell_type": "code",
      "source": [
        "with open('kaggle.json', 'w') as f:\n",
        "        json.dump({\"username\":\"salmasherif202200622\",\"key\":\"229b193e95c2e1ca70b462cf1507b94c\"}, f)"
      ],
      "metadata": {
        "id": "OgnhcS3VhGNt"
      },
      "execution_count": null,
      "outputs": []
    },
    {
      "cell_type": "markdown",
      "source": [
        "# Reading"
      ],
      "metadata": {
        "id": "U6ACFCIKLnrL"
      }
    },
    {
      "cell_type": "code",
      "source": [
        "od.download('https://www.kaggle.com/datasets/nareshbhat/health-care-data-set-on-heart-attack-possibility/data?select=heart.csv&authuser=0')"
      ],
      "metadata": {
        "colab": {
          "base_uri": "https://localhost:8080/"
        },
        "id": "U-D3YdWthIC1",
        "outputId": "b0799c95-871d-4634-e7cb-279b56671434"
      },
      "execution_count": null,
      "outputs": [
        {
          "output_type": "stream",
          "name": "stdout",
          "text": [
            "Skipping, found downloaded files in \"./health-care-data-set-on-heart-attack-possibility\" (use force=True to force download)\n"
          ]
        }
      ]
    },
    {
      "cell_type": "code",
      "source": [
        "df = pd.read_csv('/content/health-care-data-set-on-heart-attack-possibility/heart.csv')"
      ],
      "metadata": {
        "id": "Mo6Ig5gZhJ0z"
      },
      "execution_count": null,
      "outputs": []
    },
    {
      "cell_type": "code",
      "source": [
        "df"
      ],
      "metadata": {
        "colab": {
          "base_uri": "https://localhost:8080/"
        },
        "id": "l-nCwsSiIt-6",
        "outputId": "599700dc-ce27-47df-9c5d-0bd6846962a6"
      },
      "execution_count": null,
      "outputs": [
        {
          "output_type": "execute_result",
          "data": {
            "text/plain": [
              "     age  sex  cp  trestbps  chol  fbs  restecg  thalach  exang  oldpeak  \\\n",
              "0     63    1   3       145   233    1        0      150      0      2.3   \n",
              "1     37    1   2       130   250    0        1      187      0      3.5   \n",
              "2     41    0   1       130   204    0        0      172      0      1.4   \n",
              "3     56    1   1       120   236    0        1      178      0      0.8   \n",
              "4     57    0   0       120   354    0        1      163      1      0.6   \n",
              "..   ...  ...  ..       ...   ...  ...      ...      ...    ...      ...   \n",
              "298   57    0   0       140   241    0        1      123      1      0.2   \n",
              "299   45    1   3       110   264    0        1      132      0      1.2   \n",
              "300   68    1   0       144   193    1        1      141      0      3.4   \n",
              "301   57    1   0       130   131    0        1      115      1      1.2   \n",
              "302   57    0   1       130   236    0        0      174      0      0.0   \n",
              "\n",
              "     slope  ca  thal  target  \n",
              "0        0   0     1       1  \n",
              "1        0   0     2       1  \n",
              "2        2   0     2       1  \n",
              "3        2   0     2       1  \n",
              "4        2   0     2       1  \n",
              "..     ...  ..   ...     ...  \n",
              "298      1   0     3       0  \n",
              "299      1   0     3       0  \n",
              "300      1   2     3       0  \n",
              "301      1   1     3       0  \n",
              "302      1   1     2       0  \n",
              "\n",
              "[303 rows x 14 columns]"
            ],
            "text/html": [
              "\n",
              "  <div id=\"df-37979e50-363c-4d56-a979-6ee518cb735c\" class=\"colab-df-container\">\n",
              "    <div>\n",
              "<style scoped>\n",
              "    .dataframe tbody tr th:only-of-type {\n",
              "        vertical-align: middle;\n",
              "    }\n",
              "\n",
              "    .dataframe tbody tr th {\n",
              "        vertical-align: top;\n",
              "    }\n",
              "\n",
              "    .dataframe thead th {\n",
              "        text-align: right;\n",
              "    }\n",
              "</style>\n",
              "<table border=\"1\" class=\"dataframe\">\n",
              "  <thead>\n",
              "    <tr style=\"text-align: right;\">\n",
              "      <th></th>\n",
              "      <th>age</th>\n",
              "      <th>sex</th>\n",
              "      <th>cp</th>\n",
              "      <th>trestbps</th>\n",
              "      <th>chol</th>\n",
              "      <th>fbs</th>\n",
              "      <th>restecg</th>\n",
              "      <th>thalach</th>\n",
              "      <th>exang</th>\n",
              "      <th>oldpeak</th>\n",
              "      <th>slope</th>\n",
              "      <th>ca</th>\n",
              "      <th>thal</th>\n",
              "      <th>target</th>\n",
              "    </tr>\n",
              "  </thead>\n",
              "  <tbody>\n",
              "    <tr>\n",
              "      <th>0</th>\n",
              "      <td>63</td>\n",
              "      <td>1</td>\n",
              "      <td>3</td>\n",
              "      <td>145</td>\n",
              "      <td>233</td>\n",
              "      <td>1</td>\n",
              "      <td>0</td>\n",
              "      <td>150</td>\n",
              "      <td>0</td>\n",
              "      <td>2.3</td>\n",
              "      <td>0</td>\n",
              "      <td>0</td>\n",
              "      <td>1</td>\n",
              "      <td>1</td>\n",
              "    </tr>\n",
              "    <tr>\n",
              "      <th>1</th>\n",
              "      <td>37</td>\n",
              "      <td>1</td>\n",
              "      <td>2</td>\n",
              "      <td>130</td>\n",
              "      <td>250</td>\n",
              "      <td>0</td>\n",
              "      <td>1</td>\n",
              "      <td>187</td>\n",
              "      <td>0</td>\n",
              "      <td>3.5</td>\n",
              "      <td>0</td>\n",
              "      <td>0</td>\n",
              "      <td>2</td>\n",
              "      <td>1</td>\n",
              "    </tr>\n",
              "    <tr>\n",
              "      <th>2</th>\n",
              "      <td>41</td>\n",
              "      <td>0</td>\n",
              "      <td>1</td>\n",
              "      <td>130</td>\n",
              "      <td>204</td>\n",
              "      <td>0</td>\n",
              "      <td>0</td>\n",
              "      <td>172</td>\n",
              "      <td>0</td>\n",
              "      <td>1.4</td>\n",
              "      <td>2</td>\n",
              "      <td>0</td>\n",
              "      <td>2</td>\n",
              "      <td>1</td>\n",
              "    </tr>\n",
              "    <tr>\n",
              "      <th>3</th>\n",
              "      <td>56</td>\n",
              "      <td>1</td>\n",
              "      <td>1</td>\n",
              "      <td>120</td>\n",
              "      <td>236</td>\n",
              "      <td>0</td>\n",
              "      <td>1</td>\n",
              "      <td>178</td>\n",
              "      <td>0</td>\n",
              "      <td>0.8</td>\n",
              "      <td>2</td>\n",
              "      <td>0</td>\n",
              "      <td>2</td>\n",
              "      <td>1</td>\n",
              "    </tr>\n",
              "    <tr>\n",
              "      <th>4</th>\n",
              "      <td>57</td>\n",
              "      <td>0</td>\n",
              "      <td>0</td>\n",
              "      <td>120</td>\n",
              "      <td>354</td>\n",
              "      <td>0</td>\n",
              "      <td>1</td>\n",
              "      <td>163</td>\n",
              "      <td>1</td>\n",
              "      <td>0.6</td>\n",
              "      <td>2</td>\n",
              "      <td>0</td>\n",
              "      <td>2</td>\n",
              "      <td>1</td>\n",
              "    </tr>\n",
              "    <tr>\n",
              "      <th>...</th>\n",
              "      <td>...</td>\n",
              "      <td>...</td>\n",
              "      <td>...</td>\n",
              "      <td>...</td>\n",
              "      <td>...</td>\n",
              "      <td>...</td>\n",
              "      <td>...</td>\n",
              "      <td>...</td>\n",
              "      <td>...</td>\n",
              "      <td>...</td>\n",
              "      <td>...</td>\n",
              "      <td>...</td>\n",
              "      <td>...</td>\n",
              "      <td>...</td>\n",
              "    </tr>\n",
              "    <tr>\n",
              "      <th>298</th>\n",
              "      <td>57</td>\n",
              "      <td>0</td>\n",
              "      <td>0</td>\n",
              "      <td>140</td>\n",
              "      <td>241</td>\n",
              "      <td>0</td>\n",
              "      <td>1</td>\n",
              "      <td>123</td>\n",
              "      <td>1</td>\n",
              "      <td>0.2</td>\n",
              "      <td>1</td>\n",
              "      <td>0</td>\n",
              "      <td>3</td>\n",
              "      <td>0</td>\n",
              "    </tr>\n",
              "    <tr>\n",
              "      <th>299</th>\n",
              "      <td>45</td>\n",
              "      <td>1</td>\n",
              "      <td>3</td>\n",
              "      <td>110</td>\n",
              "      <td>264</td>\n",
              "      <td>0</td>\n",
              "      <td>1</td>\n",
              "      <td>132</td>\n",
              "      <td>0</td>\n",
              "      <td>1.2</td>\n",
              "      <td>1</td>\n",
              "      <td>0</td>\n",
              "      <td>3</td>\n",
              "      <td>0</td>\n",
              "    </tr>\n",
              "    <tr>\n",
              "      <th>300</th>\n",
              "      <td>68</td>\n",
              "      <td>1</td>\n",
              "      <td>0</td>\n",
              "      <td>144</td>\n",
              "      <td>193</td>\n",
              "      <td>1</td>\n",
              "      <td>1</td>\n",
              "      <td>141</td>\n",
              "      <td>0</td>\n",
              "      <td>3.4</td>\n",
              "      <td>1</td>\n",
              "      <td>2</td>\n",
              "      <td>3</td>\n",
              "      <td>0</td>\n",
              "    </tr>\n",
              "    <tr>\n",
              "      <th>301</th>\n",
              "      <td>57</td>\n",
              "      <td>1</td>\n",
              "      <td>0</td>\n",
              "      <td>130</td>\n",
              "      <td>131</td>\n",
              "      <td>0</td>\n",
              "      <td>1</td>\n",
              "      <td>115</td>\n",
              "      <td>1</td>\n",
              "      <td>1.2</td>\n",
              "      <td>1</td>\n",
              "      <td>1</td>\n",
              "      <td>3</td>\n",
              "      <td>0</td>\n",
              "    </tr>\n",
              "    <tr>\n",
              "      <th>302</th>\n",
              "      <td>57</td>\n",
              "      <td>0</td>\n",
              "      <td>1</td>\n",
              "      <td>130</td>\n",
              "      <td>236</td>\n",
              "      <td>0</td>\n",
              "      <td>0</td>\n",
              "      <td>174</td>\n",
              "      <td>0</td>\n",
              "      <td>0.0</td>\n",
              "      <td>1</td>\n",
              "      <td>1</td>\n",
              "      <td>2</td>\n",
              "      <td>0</td>\n",
              "    </tr>\n",
              "  </tbody>\n",
              "</table>\n",
              "<p>303 rows × 14 columns</p>\n",
              "</div>\n",
              "    <div class=\"colab-df-buttons\">\n",
              "\n",
              "  <div class=\"colab-df-container\">\n",
              "    <button class=\"colab-df-convert\" onclick=\"convertToInteractive('df-37979e50-363c-4d56-a979-6ee518cb735c')\"\n",
              "            title=\"Convert this dataframe to an interactive table.\"\n",
              "            style=\"display:none;\">\n",
              "\n",
              "  <svg xmlns=\"http://www.w3.org/2000/svg\" height=\"24px\" viewBox=\"0 -960 960 960\">\n",
              "    <path d=\"M120-120v-720h720v720H120Zm60-500h600v-160H180v160Zm220 220h160v-160H400v160Zm0 220h160v-160H400v160ZM180-400h160v-160H180v160Zm440 0h160v-160H620v160ZM180-180h160v-160H180v160Zm440 0h160v-160H620v160Z\"/>\n",
              "  </svg>\n",
              "    </button>\n",
              "\n",
              "  <style>\n",
              "    .colab-df-container {\n",
              "      display:flex;\n",
              "      gap: 12px;\n",
              "    }\n",
              "\n",
              "    .colab-df-convert {\n",
              "      background-color: #E8F0FE;\n",
              "      border: none;\n",
              "      border-radius: 50%;\n",
              "      cursor: pointer;\n",
              "      display: none;\n",
              "      fill: #1967D2;\n",
              "      height: 32px;\n",
              "      padding: 0 0 0 0;\n",
              "      width: 32px;\n",
              "    }\n",
              "\n",
              "    .colab-df-convert:hover {\n",
              "      background-color: #E2EBFA;\n",
              "      box-shadow: 0px 1px 2px rgba(60, 64, 67, 0.3), 0px 1px 3px 1px rgba(60, 64, 67, 0.15);\n",
              "      fill: #174EA6;\n",
              "    }\n",
              "\n",
              "    .colab-df-buttons div {\n",
              "      margin-bottom: 4px;\n",
              "    }\n",
              "\n",
              "    [theme=dark] .colab-df-convert {\n",
              "      background-color: #3B4455;\n",
              "      fill: #D2E3FC;\n",
              "    }\n",
              "\n",
              "    [theme=dark] .colab-df-convert:hover {\n",
              "      background-color: #434B5C;\n",
              "      box-shadow: 0px 1px 3px 1px rgba(0, 0, 0, 0.15);\n",
              "      filter: drop-shadow(0px 1px 2px rgba(0, 0, 0, 0.3));\n",
              "      fill: #FFFFFF;\n",
              "    }\n",
              "  </style>\n",
              "\n",
              "    <script>\n",
              "      const buttonEl =\n",
              "        document.querySelector('#df-37979e50-363c-4d56-a979-6ee518cb735c button.colab-df-convert');\n",
              "      buttonEl.style.display =\n",
              "        google.colab.kernel.accessAllowed ? 'block' : 'none';\n",
              "\n",
              "      async function convertToInteractive(key) {\n",
              "        const element = document.querySelector('#df-37979e50-363c-4d56-a979-6ee518cb735c');\n",
              "        const dataTable =\n",
              "          await google.colab.kernel.invokeFunction('convertToInteractive',\n",
              "                                                    [key], {});\n",
              "        if (!dataTable) return;\n",
              "\n",
              "        const docLinkHtml = 'Like what you see? Visit the ' +\n",
              "          '<a target=\"_blank\" href=https://colab.research.google.com/notebooks/data_table.ipynb>data table notebook</a>'\n",
              "          + ' to learn more about interactive tables.';\n",
              "        element.innerHTML = '';\n",
              "        dataTable['output_type'] = 'display_data';\n",
              "        await google.colab.output.renderOutput(dataTable, element);\n",
              "        const docLink = document.createElement('div');\n",
              "        docLink.innerHTML = docLinkHtml;\n",
              "        element.appendChild(docLink);\n",
              "      }\n",
              "    </script>\n",
              "  </div>\n",
              "\n",
              "\n",
              "<div id=\"df-516fda57-896c-4e8b-937c-fe7f34af88a9\">\n",
              "  <button class=\"colab-df-quickchart\" onclick=\"quickchart('df-516fda57-896c-4e8b-937c-fe7f34af88a9')\"\n",
              "            title=\"Suggest charts\"\n",
              "            style=\"display:none;\">\n",
              "\n",
              "<svg xmlns=\"http://www.w3.org/2000/svg\" height=\"24px\"viewBox=\"0 0 24 24\"\n",
              "     width=\"24px\">\n",
              "    <g>\n",
              "        <path d=\"M19 3H5c-1.1 0-2 .9-2 2v14c0 1.1.9 2 2 2h14c1.1 0 2-.9 2-2V5c0-1.1-.9-2-2-2zM9 17H7v-7h2v7zm4 0h-2V7h2v10zm4 0h-2v-4h2v4z\"/>\n",
              "    </g>\n",
              "</svg>\n",
              "  </button>\n",
              "\n",
              "<style>\n",
              "  .colab-df-quickchart {\n",
              "      --bg-color: #E8F0FE;\n",
              "      --fill-color: #1967D2;\n",
              "      --hover-bg-color: #E2EBFA;\n",
              "      --hover-fill-color: #174EA6;\n",
              "      --disabled-fill-color: #AAA;\n",
              "      --disabled-bg-color: #DDD;\n",
              "  }\n",
              "\n",
              "  [theme=dark] .colab-df-quickchart {\n",
              "      --bg-color: #3B4455;\n",
              "      --fill-color: #D2E3FC;\n",
              "      --hover-bg-color: #434B5C;\n",
              "      --hover-fill-color: #FFFFFF;\n",
              "      --disabled-bg-color: #3B4455;\n",
              "      --disabled-fill-color: #666;\n",
              "  }\n",
              "\n",
              "  .colab-df-quickchart {\n",
              "    background-color: var(--bg-color);\n",
              "    border: none;\n",
              "    border-radius: 50%;\n",
              "    cursor: pointer;\n",
              "    display: none;\n",
              "    fill: var(--fill-color);\n",
              "    height: 32px;\n",
              "    padding: 0;\n",
              "    width: 32px;\n",
              "  }\n",
              "\n",
              "  .colab-df-quickchart:hover {\n",
              "    background-color: var(--hover-bg-color);\n",
              "    box-shadow: 0 1px 2px rgba(60, 64, 67, 0.3), 0 1px 3px 1px rgba(60, 64, 67, 0.15);\n",
              "    fill: var(--button-hover-fill-color);\n",
              "  }\n",
              "\n",
              "  .colab-df-quickchart-complete:disabled,\n",
              "  .colab-df-quickchart-complete:disabled:hover {\n",
              "    background-color: var(--disabled-bg-color);\n",
              "    fill: var(--disabled-fill-color);\n",
              "    box-shadow: none;\n",
              "  }\n",
              "\n",
              "  .colab-df-spinner {\n",
              "    border: 2px solid var(--fill-color);\n",
              "    border-color: transparent;\n",
              "    border-bottom-color: var(--fill-color);\n",
              "    animation:\n",
              "      spin 1s steps(1) infinite;\n",
              "  }\n",
              "\n",
              "  @keyframes spin {\n",
              "    0% {\n",
              "      border-color: transparent;\n",
              "      border-bottom-color: var(--fill-color);\n",
              "      border-left-color: var(--fill-color);\n",
              "    }\n",
              "    20% {\n",
              "      border-color: transparent;\n",
              "      border-left-color: var(--fill-color);\n",
              "      border-top-color: var(--fill-color);\n",
              "    }\n",
              "    30% {\n",
              "      border-color: transparent;\n",
              "      border-left-color: var(--fill-color);\n",
              "      border-top-color: var(--fill-color);\n",
              "      border-right-color: var(--fill-color);\n",
              "    }\n",
              "    40% {\n",
              "      border-color: transparent;\n",
              "      border-right-color: var(--fill-color);\n",
              "      border-top-color: var(--fill-color);\n",
              "    }\n",
              "    60% {\n",
              "      border-color: transparent;\n",
              "      border-right-color: var(--fill-color);\n",
              "    }\n",
              "    80% {\n",
              "      border-color: transparent;\n",
              "      border-right-color: var(--fill-color);\n",
              "      border-bottom-color: var(--fill-color);\n",
              "    }\n",
              "    90% {\n",
              "      border-color: transparent;\n",
              "      border-bottom-color: var(--fill-color);\n",
              "    }\n",
              "  }\n",
              "</style>\n",
              "\n",
              "  <script>\n",
              "    async function quickchart(key) {\n",
              "      const quickchartButtonEl =\n",
              "        document.querySelector('#' + key + ' button');\n",
              "      quickchartButtonEl.disabled = true;  // To prevent multiple clicks.\n",
              "      quickchartButtonEl.classList.add('colab-df-spinner');\n",
              "      try {\n",
              "        const charts = await google.colab.kernel.invokeFunction(\n",
              "            'suggestCharts', [key], {});\n",
              "      } catch (error) {\n",
              "        console.error('Error during call to suggestCharts:', error);\n",
              "      }\n",
              "      quickchartButtonEl.classList.remove('colab-df-spinner');\n",
              "      quickchartButtonEl.classList.add('colab-df-quickchart-complete');\n",
              "    }\n",
              "    (() => {\n",
              "      let quickchartButtonEl =\n",
              "        document.querySelector('#df-516fda57-896c-4e8b-937c-fe7f34af88a9 button');\n",
              "      quickchartButtonEl.style.display =\n",
              "        google.colab.kernel.accessAllowed ? 'block' : 'none';\n",
              "    })();\n",
              "  </script>\n",
              "</div>\n",
              "    </div>\n",
              "  </div>\n"
            ],
            "application/vnd.google.colaboratory.intrinsic+json": {
              "type": "dataframe",
              "variable_name": "df",
              "summary": "{\n  \"name\": \"df\",\n  \"rows\": 303,\n  \"fields\": [\n    {\n      \"column\": \"age\",\n      \"properties\": {\n        \"dtype\": \"number\",\n        \"std\": 9,\n        \"min\": 29,\n        \"max\": 77,\n        \"num_unique_values\": 41,\n        \"samples\": [\n          46,\n          66,\n          48\n        ],\n        \"semantic_type\": \"\",\n        \"description\": \"\"\n      }\n    },\n    {\n      \"column\": \"sex\",\n      \"properties\": {\n        \"dtype\": \"number\",\n        \"std\": 0,\n        \"min\": 0,\n        \"max\": 1,\n        \"num_unique_values\": 2,\n        \"samples\": [\n          0,\n          1\n        ],\n        \"semantic_type\": \"\",\n        \"description\": \"\"\n      }\n    },\n    {\n      \"column\": \"cp\",\n      \"properties\": {\n        \"dtype\": \"number\",\n        \"std\": 1,\n        \"min\": 0,\n        \"max\": 3,\n        \"num_unique_values\": 4,\n        \"samples\": [\n          2,\n          0\n        ],\n        \"semantic_type\": \"\",\n        \"description\": \"\"\n      }\n    },\n    {\n      \"column\": \"trestbps\",\n      \"properties\": {\n        \"dtype\": \"number\",\n        \"std\": 17,\n        \"min\": 94,\n        \"max\": 200,\n        \"num_unique_values\": 49,\n        \"samples\": [\n          104,\n          123\n        ],\n        \"semantic_type\": \"\",\n        \"description\": \"\"\n      }\n    },\n    {\n      \"column\": \"chol\",\n      \"properties\": {\n        \"dtype\": \"number\",\n        \"std\": 51,\n        \"min\": 126,\n        \"max\": 564,\n        \"num_unique_values\": 152,\n        \"samples\": [\n          277,\n          169\n        ],\n        \"semantic_type\": \"\",\n        \"description\": \"\"\n      }\n    },\n    {\n      \"column\": \"fbs\",\n      \"properties\": {\n        \"dtype\": \"number\",\n        \"std\": 0,\n        \"min\": 0,\n        \"max\": 1,\n        \"num_unique_values\": 2,\n        \"samples\": [\n          0,\n          1\n        ],\n        \"semantic_type\": \"\",\n        \"description\": \"\"\n      }\n    },\n    {\n      \"column\": \"restecg\",\n      \"properties\": {\n        \"dtype\": \"number\",\n        \"std\": 0,\n        \"min\": 0,\n        \"max\": 2,\n        \"num_unique_values\": 3,\n        \"samples\": [\n          0,\n          1\n        ],\n        \"semantic_type\": \"\",\n        \"description\": \"\"\n      }\n    },\n    {\n      \"column\": \"thalach\",\n      \"properties\": {\n        \"dtype\": \"number\",\n        \"std\": 22,\n        \"min\": 71,\n        \"max\": 202,\n        \"num_unique_values\": 91,\n        \"samples\": [\n          159,\n          152\n        ],\n        \"semantic_type\": \"\",\n        \"description\": \"\"\n      }\n    },\n    {\n      \"column\": \"exang\",\n      \"properties\": {\n        \"dtype\": \"number\",\n        \"std\": 0,\n        \"min\": 0,\n        \"max\": 1,\n        \"num_unique_values\": 2,\n        \"samples\": [\n          1,\n          0\n        ],\n        \"semantic_type\": \"\",\n        \"description\": \"\"\n      }\n    },\n    {\n      \"column\": \"oldpeak\",\n      \"properties\": {\n        \"dtype\": \"number\",\n        \"std\": 1.1610750220686348,\n        \"min\": 0.0,\n        \"max\": 6.2,\n        \"num_unique_values\": 40,\n        \"samples\": [\n          1.9,\n          3.0\n        ],\n        \"semantic_type\": \"\",\n        \"description\": \"\"\n      }\n    },\n    {\n      \"column\": \"slope\",\n      \"properties\": {\n        \"dtype\": \"number\",\n        \"std\": 0,\n        \"min\": 0,\n        \"max\": 2,\n        \"num_unique_values\": 3,\n        \"samples\": [\n          0,\n          2\n        ],\n        \"semantic_type\": \"\",\n        \"description\": \"\"\n      }\n    },\n    {\n      \"column\": \"ca\",\n      \"properties\": {\n        \"dtype\": \"number\",\n        \"std\": 1,\n        \"min\": 0,\n        \"max\": 4,\n        \"num_unique_values\": 5,\n        \"samples\": [\n          2,\n          4\n        ],\n        \"semantic_type\": \"\",\n        \"description\": \"\"\n      }\n    },\n    {\n      \"column\": \"thal\",\n      \"properties\": {\n        \"dtype\": \"number\",\n        \"std\": 0,\n        \"min\": 0,\n        \"max\": 3,\n        \"num_unique_values\": 4,\n        \"samples\": [\n          2,\n          0\n        ],\n        \"semantic_type\": \"\",\n        \"description\": \"\"\n      }\n    },\n    {\n      \"column\": \"target\",\n      \"properties\": {\n        \"dtype\": \"number\",\n        \"std\": 0,\n        \"min\": 0,\n        \"max\": 1,\n        \"num_unique_values\": 2,\n        \"samples\": [\n          0,\n          1\n        ],\n        \"semantic_type\": \"\",\n        \"description\": \"\"\n      }\n    }\n  ]\n}"
            }
          },
          "metadata": {},
          "execution_count": 827
        }
      ]
    },
    {
      "cell_type": "markdown",
      "source": [
        "# Data cleaning"
      ],
      "metadata": {
        "id": "r7oUbbMZLrjg"
      }
    },
    {
      "cell_type": "code",
      "source": [
        "X_train, X_test, y_train, y_test = train_test_split(df.iloc[:, :-1].values, df.iloc[:, -1].values, test_size=0.2, random_state=42)"
      ],
      "metadata": {
        "id": "1K-_L3xNI5zI"
      },
      "execution_count": null,
      "outputs": []
    },
    {
      "cell_type": "code",
      "source": [
        "scaler = StandardScaler()\n",
        "X_train = scaler.fit_transform(X_train)\n",
        "X_test = scaler.fit_transform(X_test)"
      ],
      "metadata": {
        "id": "pvspx33CMQbS"
      },
      "execution_count": null,
      "outputs": []
    },
    {
      "cell_type": "code",
      "source": [
        "df.isnull().sum()"
      ],
      "metadata": {
        "colab": {
          "base_uri": "https://localhost:8080/"
        },
        "id": "I76KhXqxMuZ2",
        "outputId": "59f59762-c0c1-417c-f324-9eface42d727"
      },
      "execution_count": null,
      "outputs": [
        {
          "output_type": "execute_result",
          "data": {
            "text/plain": [
              "age         0\n",
              "sex         0\n",
              "cp          0\n",
              "trestbps    0\n",
              "chol        0\n",
              "fbs         0\n",
              "restecg     0\n",
              "thalach     0\n",
              "exang       0\n",
              "oldpeak     0\n",
              "slope       0\n",
              "ca          0\n",
              "thal        0\n",
              "target      0\n",
              "dtype: int64"
            ]
          },
          "metadata": {},
          "execution_count": 830
        }
      ]
    },
    {
      "cell_type": "code",
      "source": [
        "print(\"Before droping duplicates: \", df.duplicated().sum())\n",
        "df = df.drop_duplicates()\n",
        "print(\"After droping duplicates: \", df.duplicated().sum())"
      ],
      "metadata": {
        "colab": {
          "base_uri": "https://localhost:8080/"
        },
        "id": "sF7gNhAfNAf9",
        "outputId": "fa7e0c05-07bd-47c8-9b16-ef0d2807a95e"
      },
      "execution_count": null,
      "outputs": [
        {
          "output_type": "stream",
          "name": "stdout",
          "text": [
            "Before droping duplicates:  1\n",
            "After droping duplicates:  0\n"
          ]
        }
      ]
    },
    {
      "cell_type": "markdown",
      "source": [
        "# Model Train"
      ],
      "metadata": {
        "id": "rNPEaG7STY4A"
      }
    },
    {
      "cell_type": "markdown",
      "source": [
        "Equation 1\n",
        "\n",
        "![image.png](data:image/png;base64,iVBORw0KGgoAAAANSUhEUgAAASAAAAAkCAYAAAApZeciAAAAAXNSR0IArs4c6QAAAARnQU1BAACxjwv8YQUAAAAJcEhZcwAADsMAAA7DAcdvqGQAABmYSURBVHhe7Z0J/E3F+8dHi0RFpUWSVEKlkhJJtJFKKllaKOsrKnlFijZUilcrLZStUkJJKSW0SEIo2pWkCKFNe2r+837c5/zme93l3HvPzff79/28jHvvOXNmnnlm5plnmTnfEp/edKM1YPP//w1KxD6LUYxibNMoYTdtcqLHGvuvS1xAOARfooIr21pXJGWWiH0WoxjF2NZRwgkG0X02bdpk/vrrL7kI8iEkqKpUqVJmu+22i10pRjGKsS0jEEBffPGFGTJkiPnhhx/yJnz2339/c+ONN5oyZcrEruYf1Juv9lBuvsovRmLEhmvkPNdyQXF/5o6w8yMQQOvXrzdt2rQxM2fOlBugcuXKZr/99ov9yh5r1641K1asMDfddJMIoO233z52J3+gWbGmCQOiHFT5LLsYyfHvv/8Kr+F9FFq09iHg+48//mi+++47U7Vq1aBfi/s2O9BXQPmXlI+O8YJ//vnHPvnkk9YJB3pF0gUXXGD/+OOPWI7M4Yiwf/75p23durWtUaOG/fTTT+XafwHqoU2kqOv0yyYVI//IB8+1zN9//92+8cYbtl69etYtuHb48OHWCaPivs0BYfuqwDLStGlTU7t27dgvY95++22zaNGiAitFWPAM6bXXXjPTp0835513njnggANid1NDn1X4v+Pvgfhr33//vZk6dWrsV36wevVqM3v2bOMEbOxK0UMiPiqUp5r8a/81qPPXX381r7/+es4uAr8tbnKYjz76SDTziy66yMyfP9+sW7fO9OzZ01x55ZXy+++//95q7S7K+OWXX4wT6uann36KXUmMwARzq4FcGDlypLnqqqtkYu2www6md+/e5uabbzY77rijdHzYzqdYVFo69pNPPjHPPPOMOeaYY0KVweR+9dVXE05uzLdTTz3VHHjggfI7fnDgy7rlllvE7JsxY4Zci9rpTX0ffvihtA3B2qNHD7P77rvLvVwmx38NJtfcuXON00zlN+2CfuXn0UcfbY499ljJBy9XrVol1xXw9ZxzzjF777137Eq00L7FLLrzzjvNW2+9ZZ599llZyLLtU8Y5bUSgPfHEE+bhhx82S5cuNYceeqhp166d2Xfffc3YsWPNm2++KT7LK664wnTp0sXsvPPO8rzyqCj189YAfXbxxRfLvMDtcsQRR8j1LXjnGCpQdfTrr7+2buAxAiXxfcWKFXKfFBaU5QaLdQTY7t27iynGtTBlLFu2zDohKCqx6/iAlurVq9vLLrvMuskfy/k/uv/66y87c+ZMW6lSJXv22Wfbb775Rq6HrTMTUN6mTZvsrFmz7OGHH26bNGkiPKKuogRMj9GjR9vGjRtLPymf99prLzG/MUto08aNG+2gQYNsnTp1rFuIbOnSpa1bTGy3bt3smjVrYqVFD3jsFi+p1wlCu3DhQrmWS38yDnEFOMFpy5UrZ48//nj71FNPWbdSB+OFPHPmzLHnn3++dcLVtmjRwi5fvlzGGHVHPZ7+PwI+rly5UsYWc8QJ9IR9FwggwE0GZd++fWWgMRjxCY0aNUoKDMN47aANGzbYNm3aWKepWLfCBNfDgHzU51Ze27x584AOytFG+Ak/lVvNrFu9RPgwWOLzRA3KhBZnFthq1arZunXr2nnz5hWgr7ADGpXP48ePtyVLlhReO81OeMo9TUy+e++91zqtwD744IPym+tRQ3kHTc58t4cddpgIO3hLfdnwVp9hQgwePNg2bdrUOhPLvvLKK9aZCsH9+IQgWrBggXUWgG3fvr2MMWcCyr1ipIby8Ntvv7UtW7a0Tmu148aNk3Gl90gFBJBi9uzZtmLFisGKyCBwKqs8kA46YNFGWEkHDhyY00B1Jo7Q4FRu++WXXwaE+4PRqeb2oIMOslWqVLGff/55cO+/ABOFFRSt4IwzzpBBrnQVJSC06Wd47cwREfbalwjV5557zlaoUMFeffXVoi3kC/CNOtGC0U523XVXO23aNKEhW2iZaKnOtJe2sdCG6SPyUDca9ZIlS+zPP/9c5Pp2awJeIcQPOeQQW7lyZTt16tQCi3RCAYSUQv1UAcTkf+yxx2J3U4OOpnPRRFC9GEi5dFgyAaSJyXDiiSeKhuTs+WDS5FJnJqAeVspmzZoJjQMGDBChBA1FCZhZnTp1ss4+l0k/duxYaQODZdGiRSKUGjRoEJi2+QL8hH+Yd9DSoUOHnPuTZ7UMPjWlKzM+P0knTzHCg/7s37+/9CfaJ2a78j+hAOIG6i+rugohJvm6devknqZEoODJkyfbMmXKiOoadqVJhlQCiMHwwAMPiPBh9fZNvbAJJLoG4q/7SaG/afMuu+xiy5cvbz/44IMCeZJBn9UUFppfOzEKUNaYMWOkDfATAYDWu2rVKlGh8QXig4myTh/aJhIaeKlSpcQvhZ8t1zq1XC1HP/3kw7+eLm9hQzyt8UnhX6ONfjujBmWiiKBBIxdY3LSuIArmw92QyEeLFi3MSy+9JNfwZo8YMcKce+658nsLb3YMhMDJ42w/M3HiRImkgER5w8BpYsap/xL1IMLlR78ImUIj2wXatm1rHnroIeMmUHDfqcvm6aefNm7VlmsAOrhXp04d2XZAdA/QZgV1Aa4580qiRD79zjQwztySKKGyj42WRISc8DG9evWSqI2byHIvGXiWNj3//PNBOWHhBK457bTTTMmSJbPmrQ/qd4PENG7c2Hz11VemVq1aErkcPny48P++++6Te9SlKUpo++H5JZdcIv3mFj0zYcIEiUyBKOp0Jrq0iygYIDrTqlWrAm1yC5t55JFHZAwzPqDHmfiRtzlqwEOSs2DMo48+KvMDcPLg8ssvN+XKlQvaQD62kRBt5jtj2lktci/qdlK+E3ASFaM/TznlFJErHMvi5hZAMpFefvnlIAqFBoI6jA2s0jIeXMMfUrZsWduzZ8/AFEmUNyxSaUBoaUQpcJ7ia8IxquA+2hdtcA0X9Y9yGjVqZN1kEnseDUrzYkYRAcQpqeA65gdOV8wPVuU77rhDnqVdmofvTvBK5Ig6MD1xwqcDz7744ovCr9122y10Ij/mEuYnZUQB2gA/2DRKG9B+6W8iRThu4SV5cu3PRKA8TfiiDj74YOmvzp07i2kYZZ1r1661I0eOlAgr7SS6ptEtBeN26NChogmS3GSOrP58QvsHF4qb4PbSSy+VMUtA6d133y3QBr6/99574jeFD04o5KVvgdLFPKJfoYfoJnUlFUA8QGdBGASScCIxIeMJ5TuJSee0H2mUH4nKBckEEIPEaTwyUfBZPP7440KXD827evVqGdSU07FjxwKCkcT3KVOm2KpVq8ouWO7rPRITvV27duLXYpL69Wie3377zfbo0UMGLNG4uXPnxnKkxvr1663T4MTsyCR99tlnQmdU0HYQGYLXDBSn4Un0h3Hg84sUJbRM6mDB2HPPPYWP+A3gd5R1allOw5I6CJQ4ja9A+XyHtwRiGFtEOv0+L8zQ9pHYboDzl3E/bNiwLdpIm3r37i39jcKgz0UNrQsHNCa+T0/C3VyoYKQ99tjDnHXWWWannXaS65gyqMaJ4OoxTsrK7kc2b7FZTMuJGpTpGmScxiIn+FGT3aDdoi6tn41yajqyQ5qNjgropoxRo0aJOcSubbfqynUScIJV2sZGNS0zHphj0OA60zhtQUwyfT4VeOaEE04w9evXzyixcY46owZmT7Vq1YR2ynerqClfvnzQ7mTtjwKUS586YR7w0wmJvNTpJqaMb1wGmGXxYAywkZaNmDVq1IhdLfzweYXbRF0WCxculDnjgz5mTsNnt9DHruYH0MQ4ErPLYfHixWJuJxRAOnHo/DPPPNNUqFBBfvMAu0Qh2h8Q5MduduaJqVSpknGmSOxOfqD1sduSTwar+n6SoVmzZjLgED5ulY1d3YylS5eKgKFcdgbrjl9tI51HHRxT8dvtA1651VIEkDPn5HBvUQJtJzFIGbgAX8KcOXPkej4BT7V+/BbwL0yf5gIWJXY601763gd0jBs3Tj7xDzFBiyLw/TjNX/jrNGYRqj7wcTEXmOP4wvLZz5S92267ic8SIEOYu0k1IAUrhTqnABN49OjR4qRGICnRbJGnIxE+OA2TTdSoAPHKUCa/ammJAC2s6kcddZT8njRpUvAs9M+aNSsQIGvWrDHODAnukcjPSqhHDvy28V0TNPAJbTjA00HL1xQW2T6XCpQDzTfccIM40suWLSvXcRaiAeYbyjftFwR5qj7NFUwGJid4//33RQtWfuKExwlNoALNGVqgLwog8FicVq5cmTAx/uBDLn2rzzHZOdkPH5nw1Ms95i1CHoWhdOnSouXCj6jaGA/KhYfQo0EfxlRSDQjwkD7YvXv3AtElogiYGPobTWTo0KHG2dOmZcuWQSX5BMQzaAB0smKmAqt6gwYNhAlMMCJb0M6A54xR69atJapE5+OpxwwADIp58+aJ2UNnJeskpYFPn7ZUoH4iT/fff78kIk1hEnmnTZsWqo6wYGKg3XI+CiHEeTuAdoi6DK35gpbNpwoCxl26Ps0G9A+Js10sriw8mN6YW1o/2s/y5cvNrbfeGvk5N4Q8ZxWbN2+eMHXo0EHyRMFv2kYbaSvjHMFKubR/9uzZsrBynrFevXoBX0j5AmVDE2B+MU8gKCVcJnEEdunSBY5IIpaPAxhHHfc4T4RzqU+fPoGTlueiQDInNFEn12Fyj1cosEclWZ1ch6bp06eL05HIwD333CPRD7zxnDEjIsBuXzz0pBkzZsgzbiWU4yTkSweiJUQNobVfv37yfCpAF1EwIk0a4QqTiIIRIdKIZBTAac52efb/wBcn6IIICm0hSpgvaJ8SvcGR7waqtHHixImxHNEDvhENYyzjbHZakFzDuc+rY6CD336KAm6xts7kCcZZfGKs+U7/bKD8JLEnjfORBGs0wMJxEiLDBGaijKSmA85+TiwwZ4888kiJOCfVgHywGrVv3z5YDZBebuLIqxFw4qExcI9T9OTNRpI6+kQikvieCGo/AupxHSbfyY/mkg7sbcGhiG+DFYBXBmADV6lSRfwBmGjYwpiX7P+hfZMnTzZ169aVPIlA3ZqggU9og9YwPKDsF154QfgZNk2ZMkVeGcHKRl3ZAlrhN9ogr5+g7byaglUKxzi+D3iBhoiGkA6Uh+bAviY3sGNXwwN+0ad8Kj/zBfiGdoCfhD1BbnGT+tAucZTCDx3HmqCJhDnD3ijMCH5nAurr2LGjGTRoUMLUt29fyZMLoFWB/5axjcmFtk0bcTmQqC/ez6ZtZFyg/RJ0oi8zbacPv0wnWOUaY1fodDdSwj0kCanZqlWrYD8Nu1Q5V+PMMVnB2ZHsGpe1NOU5XWn8MlQDQrPQXdUkpCcn47m3zz77yI7ZZHVr2dCH5sMzHKpk1WOHL3t7WBnY+cspfDcBJXzJ4Tm2HjgBkXQFVHq4j9bg7G1JQ4YMSUpPYQE0s9OZ7fGsTGhBXCOhXXG2DV6xu5vQfzrQ3rvuukt4FnYbgoJn6R+OsjjhIJpJ2OM/2YJ9XxwxQdODbifcZSxx6BaNz+8/vpPgDZpEujGXDMrfZM9pHanyZALGtVMepB/Z0Y4WwuFeDoozp+Pr4TuJ9t9+++0yz9lvlwstWibbArBWoIWxhcYbevnEQUtIXiUm2gE7jwcPHhw4qn3Jmymwe/G1IKn9chzh8smOat8pySqtYVqkOtpMOlAudja+Knw7rAD4rxo2bCjlUH6jRo2krTjb8WvhjMV3lKptjsdCJzTwifZTFCInbBegjfCdfjzuuOOknSRWYXjFd5yXOOZpZypwn2fwceD0DwstF62ESCVaUNg+zQX4BRm7+H0WLFhg+vfvL5ouryZmPMQDOuEHO8IHDhwou9EzhbY1HS9TjbdMQDvQsgEaEI5nol9oYc6cl+uJQB8QOaYvccZHATRNeA141TO0pRVAyggGB5MTr7oCU4AXc3FcItfIF0zB+Yl6S+eQGIQIApyRHLXwwTVUSxiFmYBATNap0KWJfRFNmjSR75iO1atXN84elXy0kUnIIMTM5I14CFYEUipQFrRijiKAUC+hjeuFAcpPTdAIvUQu4QFHR1TYaH7AURW30st3HJZqcuh9oOW5lVQEBoKX0HWqwZ0KbOPA2a/8pNz4OqMC9bCwQT/RPswwXp6FO4HJEd9/0IAzlyMNtFG3K2QCxhjlJhsb/r1keTIF20cYk7wYkCADgSKCKlpXfD20E4WAMYxTnGejAAsZ7g+AuR9KAAElEqmF11zB4IBIQpXqj8kWlI82wj4cBh9ls6kRpuGPUA1LmUVHssqyUqM1IcAYSMmgz5KIeDH4qIPzKdj8OsgRpEw8vjPQ+E5dqUBeJDvCEhp4zhfUhQHaPugj4QPgTZcnnXSS6dy5c8I20t9+NIy3BGo58UCbGj9+vHFmsWjG9Ek2YIMlwos64CcDNlF9UYCxwNjik9WZsUAklN+JQJvwCdJGopEaKc0EOgaT1QHS3c8UnGOjL+kj/tDEtddeG2wZSVQP/GZx6tSpk3HmaCT8pwyUC2hA8GBVgNAmGOBBBJDurmTQ0mlRTDYYgSaDIxtTDyGB45uyURthoA/yI0URgEx+drOqepcO6oxmpUN7044g0cYLL7xQJgGaUZi28RwrBjTAaAY1uz4LG+DvmDFjZEc3k4hNf0uWLDEDBgwINhySGCSEohFMmCYMVvhy3XXXyaD0/3KKAoHOHjDUfLTRdELbB/xTsDeHhQUhidDLZpJnAsYBZjaf3bp1S7mQslCh+RDOZjVHC49icuYbjGXMRfqIRSedds49NifqRt9UeTPBO++8I4t+zZo1xfIAGQkgwKRFMMB8CkFFY3AqkdkSi6rP+6cZ4JhAFStWNNdff73sOcKGjR/QdDzaCtoXdbKZzDcRUg0M/AycDsa+jTevKAuhg1lC21TNTtUu6mIvCZMPH5nypDAB+pnUCBO0HqItd999twgZBqfvX6M9TDZOSPO+a1Z7VkIib5iofpSGcjUxYEmYUYyPTKD85bmuXbvKJy+M113pqfozW1AmQhgTg814aAdKRyJwj42CjDOOGkFjqvxbE7SN/uYT7Y5FBW1eNdpUoE2Y0/CeyHAUbYTPWDT4R+E1wlDgCAwN1yBJnAbn/TvsBXISMicPuYIy8Ni7FU+iUSSn0QQRAZKCvHqNSAanz4mS8Q5qrimdiaDP4oF3nRL8Vuiz0EEkIB3ICw/YJ+WEpJxSp2yuFxYor5Q3iaDt4FPzxfPFLycRiBY64S7RpGxBPfCedzY7IS7vlEpVZy5gDwzRIE7GEx3SeqAhHlwjcTCVyNCECROCa4UNShdtoU95pTJ7geLfRpgIeo93OLMvbP78+SnzhwF1sp+O/uQtl/5+vqwE0MaNG+2IESPk9aPaoFxBGf4AUObp7/g6NC8JwcOgcKtzwtCiDy1bPxPlTXY9EcjHK2Gdmiubqwg1hn32v0Kqtir0nubVT0W6MrjG6XWn3tvFixcnzBMW1EEZbMpzGrd1mlABWrJBPD2Ux3uwoZdXV2j7ktHNdRJbLXixFtsM9FphgdKidJEYj4xL3oGtC67mSwS9z/xmYXeafUq+pAPP8WaMWrVqyXYdhKEqFtzL2AQDqE/4gjCBMrH10wFVz0+Unax8P9/pp59urrnmGvEZYFbptnrXwEANVWi5/vMkH3o/GfyycZL36dNHoj/9+vULDv8VNiRrq8K/rt993vvP+3nhBQkH7ccffyxbHDDTcwV+IMLi0IBpjt8lUX+GAf45olz4wPR5+m3YsGHiD8PxDFL1O9fdpJFjPPhU2OCXKR35gPKfxMvFCMYo8MVhPjM28d/pRt5kbQR6j+g2bhHamip/MihNbGLkT77zlgPMefyEBUxXlykrIMFUipG2FqgbOtB8WJ0cs22vXr1EvfZpjBKUh3a2bNky2VbPSsHRDTW9NG0L0LZu2LDB1q5dW0wnTKhcoP2GGT5p0iR5vxQvSvsm9j7qTHmrG07R3Ok3tKv69evLn9thI2aYMrnPGDv55JOtE1jBEYZMaYkaSgPtgjY2z9IetwjLsRrazSZS5WkYkK9hw4ay0fcX76+GZALKoP+cYiCbXHkZGfzXsrS8rAUQBVBJpoRFDb9BJHZt1qxZU86JKdOjppHyUE3dKi31oGJqPZq2FWh7UfXZAd21a9dA+GcLylN+8okJxovxEHBuhc+Yv1OmTBHfFOOCSco5MwQQ576U/nQgD36iqlWr2rZt28pZxKjcD7lA+bR69Wo508hZR/5OHaYl/cFJBXyrmi8dyEPbEBoIDxYWrmXaTspgccZXjInr0+CXt70zG/pt1oUyAyqUpq2JeDqITrDREM8/4XCQDzoJw7I1APMLddynI+q6CjvcOBJ+o1qzB4pQNlHMbCOBPg/5ZEsDfUqkjsgrkctMeExkDjMMEwSTglD6bbfdFkS9wpZFGwFmJm2ljYUhEgb/2SDJXwPGPQJNbDTEHUHUS2kMSycRMExq+pI+ZNtNJs8Dtk9g8hL2J3JKOVqGX1bCl9IXVdAUbY6TtsEE8BscBajDSfAtmLktwue5jyj4omVrOfQp39P56OLhNBWZoEwIhKP6NTSFgd9OnvHpCltGPgAdjEVAqJ2Nm9DDVgk9EJ0JfdrGRG3NpBz6CqgfMdmzJVCEYt+LPjzm+YwTZMC8tJBqPLZFWXZRQ9zwCXgeBU9c0W7aG78kapPfmZQfT6NLm592/2dQDOUUGFOKrdj/9l9as7l9Ad9jdBa4FhbyWNzzm7/Jv9CIPb8ZyZ415v8AGBg1gCiLRawAAAAASUVORK5CYII=)\n",
        "\n",
        "Equation 2\n",
        "\n",
        "![image.png](data:image/png;base64,iVBORw0KGgoAAAANSUhEUgAAATkAAAApCAYAAABOQF7eAAAAAXNSR0IArs4c6QAAAARnQU1BAACxjwv8YQUAAAAJcEhZcwAADsMAAA7DAcdvqGQAADKxSURBVHhe7V0HYFXF0p70QgoJJST0EjqhixRBkCZFEaQo0qSp2AGfYkEFxfasKIqKoE+xYQHpTVBpAkqvoQUIBEJI7zf/982ekwJJSCzAr/mSvefc3T1bZmdnZ3b37HU6lpqRJeIsTllOkhvwLBLyPlU4ipomUZx0iaKlnRMrJ3344cuFzzuphxP8i16Sv6fMphQF4+Jci5ou8feVuXj4u8p8qXQNbbNMPCeTsml7Ir+cTPwLg7K0/+Rfsvx9C0Z29kXA35X2P6nMTifSM9A8SKaQRvrnwJArm2jZ1c1LxrxMfhlpgoyt7lY4EMWUyi7bZSzjPw1s7CwSlJTPTUcniw8upC09baGonxbybwOkgugl7XMl4XQyPZ0tbBrtHw+H4UUytXVxskdv0sB46HcT8UrCahHr4mR1KOurBZbxSpfz/z/I/Sq2SFyLnBR4KqAuhMU7FHA5oeQd69aCzVcXeJfgCkCFnIPNlU97/vNgsRwuTpZAs0drMzaTDpbAzzNKX0bkzja7jKbLqZf1mcVy0t/5X9FwfytIR2doW8oFueifRdpeSF4rXNvDAfpnCzMGYBBliOVH0OeiNEpwWaHmqmm5K9cSufiqwFLYcf6SUiIxppOUkCjbfv9NkhIT1C+4YkWpU7+eOLu6mHhFzK0o5SeKEi/bXyObrrNj+zY5E3kaX7PE3dNDGjdrKr5+fojM2EUr478ZuelO5KWYEWzRZ6Jk+2+/Qyo5xNnJWZq2bCl+ZQI1Rp74thTEdftv2+QsnrPbpUmL5uLj44v4eMJ66MK8S3D5gbFK9bgr6gwc0E447hkzIP84F/tT4eKiSV53QRzL5UYW85MMiTt/TubN/VQeGDlSvv/qC0l3pGv4hWnqvIre2+mRbixvrjKzA8BRI9Bw1Mfc28/wYcTPt552PhpkXzQsNSVFtm3eJJPuv1emTvqPdkgGUATmPF/i8nNKRZvmBdDeGc6RmSURR4/IS089JRPH3SNnz2JQ0RbIiUdn/MzzKclJsnXDennsvnEy7cnHJfZctGEThJJPzBBV0kZX2rF9rdvLC9P8BiyEM/8cF6/y2jBx8oJM5AA3OcC4uV0WOSwf2HkiG8RzEi9fP+nas4cElSsvCXFxUrp0aXFxcUEciCOEZ+ZJ06SbUzxTGgonlNoIOAvmFhFxtfMkNC4yp2NCdpgJxyceccBl8qplNOVseU0rubZ1G2ieCRiVXCSgNDUMBF5EkRIQNr2J3DRXl6WtZYUyLu+dpHyFIOnWvZtkZKSrC6lYSf3zp7Az2sVFrmnbRpq3aimJifHi4eYu/v5+yh9G0PGauyQluFK4Yr1EmQCO46qN3MxHf9vlZpW8fuaJvK5gxmJl1UEKacURNTk5RcIPHhQPDw+pWLkKhJyrRRSYLfhkmtnPWd8JUw5nJGH7IK3ERDkUftDyYUnyhhN2B9B7ulzfecfYmhc8VYu0KhsRESHJKckSXKWy+EEYm/6T82QJLgapo05pzPbIGVhyA8OYXhPjE+TkiZNSo3aoeJfy1na4GGgTJMB2csC0PRFxXFKTUqRytWpSysdPE9dcGIEZ600JriTyb8fLAJ1Mt0w7Go7UyDKdeYc/+Nt/qhbxO5wVavwJBmkKcBZD2SafpmE5G9nPWv6c0kqEYIo4elS8vLykEgRINkkoYCwnGP2ZPiwa7Q4OO238aZl06cYhs2bMkFnvvsuHNRwfpnS48plMxkc96fikan+OnPIR6mc7pgNpl+mUic53XFJS0qRBozAzZ4hiUYSW4GKQE2zYvOUAb6njvf4ZcDDhE9SaT504IXGx56VRkyYaZsPmI21TMI3R7tGaWWiX4xByKalSPwztAisgd955dcYSXClcOSFHCUOAbxzp6eJIS5OstFTJwuhIGCForo6MDMmECaF+fITfET8jPU1HU4qMjIw0mJyxajpQ6OQHI6AckpqajFE7FvHPYyQ+JrHnz4uPn58EhQSbiAQyUqGEPFNTkiQRcZPiYiQtOREBGZKekmIJKDjE+f3XX+WjGe9IUGCgZLE+KKPhcFNP/cRzKfFxkhQbI6kQrk6OTPU3MQwy4ZgqTaakxDiJR76x587JSZSTnaxRo0bZHbQEBYAEtOCE9s5ITpZktHFyTIxkJCUZLTlXJG0DMNuO37dBUDlL3QYN4HNx12C89PRU8Fgc+CHWtMvxCD4sDSDkyJ3Ks4iXqwgluMJwOpmehva4/LKO8oHMkAKm++HbryXi8BEVXH3uuENq1a6DEMMqR8PDZf5X86R02QDpP/h21biW/LBQ9mzbIWkQir379hVPmJrfz5snO7b9rmZGp67dpNett4qbm7syIEGmTow5L6tWLJetmzdLChg/LTVVoqPOyE+rVkqLVq3lg6+/lFIQdjr+QqBQCK5eulx+Q/zkpEQIx1TxRv4VQiqKl4+PDB89RuIhtFYsWyrfzf1M1qxYKV179JC6DRtKKDpKnwEDldkpnE9hxF/6wwI5eGC/pCOdjIxMaduhA8rfT9w8PbWMjJuemiK/b94qP69aJVFnTquwTIiPlx1bf5PIkydlxcYNUqV2baWO6ahXbJy6emGIrtMHa1eskPU//QzBlKADYim0W6cuXaXN9R1Ady9EIxUxUCL+vYOHyNKFC+TLxYulWes2SmOlMtovDe3yGwayn1atlnNnz2C8ypTEhAT1Ow/huQztUrFqdc2cAzgHon9Oy5CghKGIQX5+xQOVE/a1P59S4dB2YFa51wptx8zz8ysu+MyFzlbkXCGgaterp536jZdfkQxoOwqEU4vavmWLzHj1VVkOwebs6ooAF6lZK1S2bd0ibyP+2uUr5PGJE+XIvgOSmZomC7/9RiY9+ID8MO8rxKWJATMTd8cPH5aHRo+Wl6dMkYYQQMNGjZHbhg0Xb08PFZZVa1YXb3QACiT+nUD8B0eOkv8+/5zUh9AaMna03D5ihArF/06dKuHhB8UF5cnIhKYA4Xx4P+fislTI1YCQrlqlujhzHxUqu+u332XMHYPl59Ur5aa+fTSdM6cj5dH7H5BvP/9COxGJkgbBOxvm7v0jR2oHGjh0iIy4a6y0bXudRJ2KFH9oiZz7MYxBAl793chu79yuIBQURv8c/sv5xnvb34ZJwyHJoN8j998vTzw8QUr7+8tw0HHI6FESA+1r/N13y/yvv7J4jXSkBsYtIb9JQGA5KRcUBD/DBwxLS06RD956Sx4cNUoyoaXfPmyYDLv7LmnWsoWcPX1aypQvJ8EVQ5SnbQvl/7uAU54EzsechRl/XKLgeD0FzfU0BmwO2lGWo/9pK05R3GmkEXkiwqQbcVxio2N0AKJikR9MuxsY6hpot+EglctlR7TAr9oWbGDO7/BLbscE8/MrDphJvk5LiDRdnSWoQgVoRPESWLasBAeHIJRguEOOR0RIErSomqGh4u7ujudEypYrK6kQCI7MTFmJkfqJaVPlzTmz5D1oU0PuHCVJ8Ynyvw9nw9SLQ3kdEnf2rDz7+BOy5uef5PWZ78mt0BZrw+xr1KKZBFeurGk2DGsiTs6cexOJxUj9zGOTZN0vv8j0j2bJAAiohg3DdH9aUEiImpINYZ4wfjkweLv218EvQ4KrVJHbhw+XW2+/XZq2aqmrpPt2bZNxI4ZpHR5/7nm5pk0HCWvWUq65trUko5zLly2DFoEOiw73/edfymvTXpTBQ4bKU1OnSOMWzaVOozC5pl1bzbNeg4bi6uqm1CluO1wpgJwXOZtp6XKjoDpxoKCJafjP5sqcOzrCjpcEDW783eNkwZdfyx2j7pR7H5kgDRo1libNW8jT06ZhcHKRj959T85GRqIMLAW0fPDKkUOHpTL4wbtUKS0cO026I0M+//hjmY4BdQSE46PPPi2NkE498E/L1q0lHRpdvbBG4GPTLv8UkCoUPIu+my+t6taX5jVrS8uaodIytI66a+rUlRa16XBv+bUoomtZu560Cq0n1yC9axvWlzkfvKdTPBy680NuuWNay3Jo8CzO4+dynHPNDZtHFHkevsD9GTCTghw/WIDYczHQbKLUTPXxBoMRyDgDFT8BIcdr9mQwKpGcmCQRx45JmaDy8vp7M8BwYZLh4iSuMFVbt+8gPtDIIk+clFiYp84QlN999pmsXrJExj/6KIRPKxACuWLETU5JlePHIiCsXJBGQ2TJLQNZ8vWnn8rq5ctl0tNPS8MmTUFMZ2iDjJ+C+Md0grkBtDuCneQshOjZM2ekcdNm4nA2Wha3fiQmxMmst9+RiCNH5L6Jj0gVNCrrnJQQL+H7D6DyTtL8mpb0kt3bt8m0pydL02bN5PY7h0umaq2mefcjbkpyqoQ1bcL1EIV1uerBcubnisVfeIA0zf2MvQMxtx9p43BkyrIfFshKmJz1obHfPmK4CLT1LAxIpGdAhXLgpaayf/deORZ+CM9R5DrJjm3bIdQcElK5knh6eWlcYtumjdD+n5Vr27SRWwcPlnTwitEc0S779sEKSJNGYY2zNbh/DIxaKtd1uF5C0S8zM9PVeZfyksF3DpX7J44HT0/AdSLcBL0vuhsvQ0aOQD8tJRWrVJIuvXuIkwcUGND0Usjd3hzm7MVB23Gx50JoS5I5sh3/0Nhm8p5JmQs1Lzp7ZbEw2HGz49OPDgLKfLee1/JkqaCJj4uHptJAXKGtGQKb+boTECrcTR5ar671AIRKVJScOxst9SGYKlSuSLknLg5UEBXwKe2vZmQmNCuORNHQyj6Y8baaE1179kYSfJsBBEH1UhMoLI/CRAmUijADWSwKq/envy1Vq1WVjt27MSa8IbRAqQRdiYVwLVteQipVArPjARRp7569kg5BHEaByCdQDieYqkcPHJSVS5ZJaN160q37jTC0nZBGvHz4znRZtmSx3DrkDrkdjZ2RkiazZ7wnseej5YYbu4s/NFV9pQjN44Jybt+yVetUt1EDbSPWF//qrmYoD+CPdKKzy8w7J7QNLQhE0riFgTF0ryL/NL62iHVPgach+sc2Wrl4iSTEx0rfQQNhelZAXO5rw1PqnMQ/oLTuOTyHwckgS3b9vo0th05XWTw8vXWQorUwG4NUSmIC2uVG8Q8so29DMB41xm2bt6p1UbdefaTwz4LdNhVguXTq3lVc3I2mynnpVm3aysSnJsvEZ56RiVAEJtA9cyk3OcdNflJaQAvmQMV569A69UhR00CXAGOo5anlYxHRPy3H502xDZ/Y/GGGK4AdRzsPTEDOQaRBwNClc8I9mS4JGlUqMimKvM0BJ2zN83BME+mQeXLj6OFDkgItidoa0zZFg5ADw3L1yh+Cq3K16iYAzHfoULi+ilW/MUxGF1clEAUcK8C5GM61+Pn7iZeXt2yAyXkMZkiDxo2lbFCQSYJ1xTXm3Fk5fSpSgtGQQRWCkEqWrF21CoI1Qhoi7YAyZZXZKZzJ1OchWM+cPi2VYNKUgSBiIiT43l07lG6NmoRpfBbUGQ9sgRZw+sQJCO/6cmD/PvkMpu/IgbfJogXzZdKUKfLiG6/r3qqoU1Gybu1P4uvrB1OoqbiyThBu7LRc9du+FZ0JI11ondr0QfoGNp2uZmSkpWqbk5dsPkhLSpY0aNEOmHo5tSkEoDHpTMGYloJnlS+TJZ28BP7MSEtBHAo9h66w79y+HQ3jJF179cTDRiDRMR1YNGo5oIHE2R10ZhuCknyly9XNTQcvXgluD9m8YYP4gpcaNm8mLi7cUMyuybQcsn3bVvHy9pJqNWto/H8StI74cPHwgJDrjoG9jH5PQz+dNXOmJKENyIs5k1x8ojBnx3PGYB4rC+bNk8AyZWT46LHi5uSu89fswpeCCi44yijKpNSUhFzOyClq17mhQs4WXOz8+6DG//e5qfLkw+Pl8QcfkkkPPSRPTXhEXpj8NATAaka3CmO6GDuiucsfs9+bKdMmPSFPPfSwPPngwzLlkcdk5utvqFCwn9sFpqSJQGahH5NnqgmxsbqiWBlaVemAAI3LCh7cu1dN2MZNjebEZzj/lQFTha/mpIIAtaE9+eOZXzdu0seCK3GE9jTFRlwKDwqsaIzmNFW594z5bt6w0cSvCLPFwxNCy5SSnSQKAuvcOaNBctMwNTZiJzpIKV9fqQRtkF5mp3uW/LZls+ZFxlizepWkQ/g+OH6CfPbt9zBJR6A8XmgAJzmCMsfBtKWZbeYkqSvwM0u3LOzcsU1HVD9//+z6Eib3qxdkyGXzf5Cp/5mkbf/kA+Al8NSz/3lUXn72Wd04bYN1ou2gICPDx9ST3ch0JWrvb7zwkjzz2GMyCek88dB4ee7xJ2Qh6MlnGIe0pvauW4KCg/GkRSWEU4tLgsVw6MABHTipkbPBuM/t4P794u3tLZWrVNHoFKoRRw7pXHEpDD7BwRU1DaZGzTElNUn27NoJPgkWH39fq6xXJww1iwvUVQd4kYZQPq5p3VYTYf25XWrF0qUgRyb6B6hh9RGG5e8M3bQcGBy2rl8vm9avk9H3jpPAoPKaB53ZP3ppnI8+JzOnT5fnJk2SySpXHlTemjx+orw4ebIsnD/fimmgQs5kbzIKrlQRdngHOXzwgGoec2fPhjkXIF26dYN208RoNrmK4oAE3rxhvcRE26p/XlzfubNcd30H2fbbFlk8/3upVaeWdIYZ6OxsXoLPTM+AJrQbDFdWypYH0xFW8idOnkC653QOhfNX1NhIUK6CkYkrVa8BHzNSc/Ke5i23X2SgTL373ypuMCVOR0YiLyfd+mHPm6jpAmIf2LNH0iH1GzRpDF+kBAJERZ7Q+ByhubDgjMjaRGDwvXt26wKAiW8YIBlaafjeAxIC7c6nlK+al6ZpBZ0tWlygFfS85RYZi4YYMmqMtOnYUQLKsWFdkCQpmSXxseehjaTDLPfUMpsGZwpZcuzwETl/7pxqj95epZCyyZfBJperFyR3WLOmoFcjWbtyhfLTsoULpUGDBnLjzb3AayHK2NreeuFWjVTZBO2bdDVgoEMHMQqbLtAqmkOr+uGbeXIYQrJN27bSstW1yAz8hKgUTmhaKVUKtLI259LPAGbpb9vw3CGpWbu2VK5aVcM52JHGXqW8dSGKYKvHx8ZJOtrb08tD3NCOdrvweujgQUk4HycVEd8LwpHpXI2wSKuuWECFyGv8466DoaNHiRu0OqZDBeOTmR/qwh5TVvpm0zgvDIfTLOEV9AM933rlZakCy6zbzTeBlmYWjbxiJgIujVK+PtKxcxcI3tZy+MBBmfvRbPn+yy9gCfnIDd26Siv4E1Z3t4VcTtIc4Tp0vgGCqLt+Z8F4Mke7GzpJuQqc3zCVt7eccOn44bvulo0//ZynorY9XKd+famF5znn1rZ9Bxl6911SXxcRKDqywFzRcgrCLLBcoPgG+MEHz+HZM2fOymsv/1cFDefqlLOAZAiy8IP7pXxwkJSFCs0+4oCUY+jhPXtlPcy+9p07mfk01M7Xu5Ru86BpyolTznWx3AkJifLzj2vE28NLataqqX6ZSMfdy1MyoRGei45WzYu1YCPSDFq3Zi1G+1JSlRonMmTjHT16FHWLlZCKITCPPbU8WlJcAwPLgCEyJBYaqZsrTSPqJJzfQ8Fg9mTAMX0yD+vJbSNx0BxYfzYMBd/alat0FZlvY7AzEYYSfy9YLtKE7g8DXFapZnXpfvPNGNzqaMHd3N3kmuvaSrM214qnbtkxjM36cp5l088/y8N332022SqMHke6uoG+Ta9tqXNqmYg7cPhQ6davj4RAWClHg74eGMyowdEkykhOQ/n5DjJTd9IV1I9mvicuiNulR3cJAP+wnifBf4nx1KS9pQIGeQoylort4ox2SYhL1L2K+qIfHnCkpsma5Su1PUMqVwPP+Gj6VyNYqj9WMvOUfoJerdq2kzbovzZ2bftdtqxbZ/VzUqugXOCvbYN/jD6LvvtOfvt1i/Ts00d3KvwRsF2oaHTo2kUCygSiSbLE16+03DxwgLSFnGJfJLRoAFsfyCmgdl4Iglr16mnH467dPRAeyuworFMWG5qMhwuEwIpFi+TkkcOyf+dOxsiGrTVlIs7KpcskNiZOxsH0dXLFiKg1ZiGy1LRMgbnA/Ud8C4BzLpsxkr/6zBSJhxbHid1adbk5mHDIqYjjcvb0GTXraN5RMFFUHDsYLq9MfV7fWngUKqu7Nepc266tvnRPAbV14waJhymza9Mmmf7iSxCIa3S+pUoV7j3TGknrNm11cvmX1T/KdsRLQHxe33j5JfkVKnbp0tAgK1Vi4ZV4MTB3uejgis6b5eIkGVDhU1AHdpTrru+I8nvIvC8+l2MwSTOF+7IcEns6SifH16NDk5LVq1fX+QlOhC/99ls5dypSjh8Kl6/mfCyfzJqlPFIRZpQHzGeW0bjiw36yKE5hmlBhD1rFBSeE3WGWB1lmOFeJT546BX8zj0ohZ4Y7vjsaLx+887bEYeCLijylz5MhGUZa62CTmCDvz3hPakJotuvYCZ7Q1shOVjzfgEBp3b6dbrhe9P130OowsEHLT05KkC9mz5EfV62Sdl06yy0DB6rAZW35NklKUqKapAGlrWkR+FerUQNWTBmJjoqSxd9+J+dR7gi0y9zZH8nnc+aIK/iqcpVK4gEe1cyvIAprHzZjrqb8Q3D1dIclMlItKCL2/DlZsXCRnsRihuoCgKAsh5EX56Axz3zzLZ1+6n5zb933avQ783xRymjLFTS37naIOGYGQy9o7pySomZ4YUr0yYYJArMgofIYDbk7nDh6IFxXKxluimtWxuLOn5elC35Q7WrnTi7Bo8jZxDZXbuNYsXCxXN+ps4S14HYJMLfmgUDkU7Z8kG4dObjvgDww6i4ZMWCAvPL889Krdy90/EBxgaA9Gn4Yml2Upnj04CFJiI1Xc2HurNmyduESmfPW23LP0BHQfDLkuddelfphjdXMJDr36qmdgek/OHq0DO/bT55/+mmp37CemiLcM7Vv9x5JhmZHbeFmhDe/tjVM0z1y38iRMuzW/vLS1ClSD0Kfmp2zi6vsYfykZI1ftXIVCMrSsnndJnnywQly74g7ZcHX80Avh3ToAo34xm46zzdm4O0ycfQYuQ/hY++4A1rkjzr/wxGwGjSRQcOGSio0txmvv655jh06TN948CzlqXsJo2FORaLjG00xN2sUA9o+GK7YRtntVDA4DUAGsdu02IKOz8PR1ONeSA42PDbqjFUPNVTAA/ouKP62/rpRtmzYoPwUCQvB5kc6W+Pbsm49tIhtMuiOITrQucCfTkUc0vKEyTl8zGhp0qqlvDD1WXkX1sDiuV/KpHvvl3dfe0Nu7HOzTHnzVV1N1xRRJ75kz+1EHNQ3oa1SwAv0rxlaU/oNGqSHOLz5yksyon9/uWfYMJ1e4IEOjH82+izMXdQH5b8csPuY7Ww/G/mFE4aWxUEO9UlaasQt0C8aNW2m/pxTX7VsqW7mtahfADiEIRxWyyoM7Jya6g/+r14rVNvU8IAVtYigfKKj9h154oSWj9o7p9WYFwWh7QiX8U89+TRzsfMxVyfdi7bk++8hpGJ0p33PW/rAXDDmkkGW/A6GeOOll6CFpUkpf1+5qf8A1aAMTEqbf1knn3w0S55+4TkJrloN3sycQpKhLuLs5ipNmzaR6JhoiYVJWz+skUyY9Jg0bNlMYmDmNajfUGIxwuuu8pCKsmDe17IBGlDt+nXlfGycbED6fGXnNgiJhx57FMxbXZlP64cPd2g/7Tt1Elc3Z13+rhcWJuMnTZLQBmafG194j46JlboN6omPr694whzlPCLnANNQr0ZNm8rDjz0Gc6uuziPy7YdzEDh1wxqKt4+v+Pv760bl81yxQ55dYCb37H2TuHl76VxG+w7X6zYGvh8bdz5OFxBG3jVGBqCTli5Xji2mgpNmGOeIKDy5qjtq3D3SB+p3FjTphg0bqRlGLUXnkZR4ZKycdisSYIbrCndqCszoNF35LMylQ+hyzpIDnL3iSNjMcyloE/AGtDy0fy8E+2pNK6x5c2ne6lodwFB91CNL0qH9fjTjXdkAjZs+YS1MHGrVGgPxKCDnQIvjBvEX354OTYy8ZjqYXSRSJBD0oznk7uktm9dvlK1btkp5CNn7Hpkgw8aOBj+XRXwzX8d9dYkQapwO4KGppyJPq2nt4+er7dKqdVvdfsQTYALLl5e7HnhAeva9BRZKpoQ1bqyrj4FlyuncXHYh/kZwWxTnLZkVTWm7LXhlGAUb2ywDdGY43R8BRXbu2lCoeHl6Skx0tGyEpcX049A/SVduVmfk/LnRcCktntdfekGnZN744ANxBT+rzvUHaGY/sQPt+vWn/1NLqttNveT6Ht2R5sX11XdXdc7D8iDDMRmOtqMG9geTrJfqoXVk7qIFUglmFYOpxTky02VYv/6yetESeDmkWp1Q+XT+AqlWnSukyAgJsqOMvW0wmMVJ/vvuO2CucghjlTNViquZgni01fneKhuJnYnMRUWMczQsF+dUeM+Oed+dd8JEXizTXn9NboIQIDjBbF75QtpI0BBOpaglTMkc5pwwFxc3dRqMQFNbU282JAvEkpH5Kbxd3dx1mwrj2eWx45okTPx01FW4IZlpw8fM62hkBdPiHkFXCHXt3HiOG4ch7zUetRkXCDRO6nJRgvEIhmlO/AcdNE8tt6ZufRYNMTAXXpk2TVeUTcE0NQZdDAaZnCUQwnjKiy+Ki7tF46IyJupLkBaLv/1Gxo8Zo3OzIyHAH39+mpqxGo72P7Jvrwzp01eO8HU5tOewu+6Sx1FWTwysTIYLFMcOHJDht/STO8fdLUPvuTu7jHZdbAbXbOHNDs+DH0h3J3cX0B18wjigPf7xhHKgPqA1wq3OmyIvo5epr25dIe9x8ORCEmO7aCaMx/Y38exLUcC8DbKfLhAqcMAbx48ckSULF8ih8HCpUCFYBkIjqlCpktaTqy1HYOWsXb1Kwg8eUEFXC4PvTf1ulXKIW5yyESydPsKk+Ycv1Mp3b98OuTBQ24kIqVJVlkDoBVYI0prwGbtmCloO8F30zTyZgHZ/8tmpMgiaNiPZ4sjuSxeLJwNb4F6Y9uzp0+XJCeO1r772/vvSH1p2Tv/Pgaab28suKCfRqQISPLGDm2S5x4hgRhvW/iRbNm7ECMjDBREHWlX0qdOamC0yt27aKJs3bpBuPXqIT0CAMp9u4gNINJaFBSBjuULjcgdD6+sxCDBqLBnOpEZCJEA95bFInhhRQmB/8xk3Dy9xc3WnTqibbSE38GmYls6+cYbwcffwhnnK9OFnMjYE0SvZ33oe37lFhJoABa4dnfFUEGqZTBn5lR9uLIsrTBiG8Xkr3Bn3dNQ6OKfm4mzeZNA4pIfJXsuPzEyd3N003C6bCjeOyFZc3vCit8UAB5G4uDidZoiPgeP1fIy5hzabx2nYOQ2nWcBW11xNAYoMtjYZj6alJ+hJs4XzbdRGtPOAH7jOzgMWssCsPGCBCy089iiFA4emwLpmyeLvv9NtQJ1u7KGd3janlc56Z6Bkw5V057vRumrtjMHTjgMhxvT4jXVim7FNofYoX9LXpGnSp3Bj++qAZ/lrx7TaGl7G5QOyO7uN7Vgb1vnC6OpvbvPA+GfpvOD/PvoIbRcDxWKRvAph8d6bbyIwUzv5gm++1a01ZyIjxRWJz//ic91i8foLL2i4CsJiILt8uGEdSQ8Slpvy29PSsXDy2DGZO+dj6xuKg/bVSltgTVNSkmT6q69KrVq1pRO0LZBf28Y0lOFl0rQo0IGLqeK6a9t25RUmoDswNKWLUWDaHhBy3CTLQnCj7qmTkSyxFpDmzozX3pJ6MKN63dpPC0wz68TxE4hCbcOYH7PefldPXO3YtRuSMWegmXLkX5gCoUTLUlX5NDoI9zPp5H8JioVAjOhvfvihzIXGPXfBD/LZgoXyKd0PuP9hQR73KR20hs/g3vzgfV1YURSjs5hWQ+cGfwQFBWevDp9CR+SCE0GtKf7sOfnkg49k0JAhMA3NFo6TEHLcNKzZIU4ShO7sd9+XG27sJkG6egYeKiYbXQmYI/DR8VVlR/fklaDGQWe+KfKjrApjEGHtmtXSrVcPmfj4E9JvwCDdP7kW5r9kZMrKJUtl7+698v4nH8vEyU/JZAi20ffcoyftLIPVw9cIjYj98+DJPsPGjhHfgNKm7Gibz5Fv9KlTqABqQKFlCS4Nh9D79tO5sm/nLunV7xYpG1yBvn8YdroU3LrpG/D28ZMaNWuCUprjRShQyPE1Iqq5nDTmqMsRgmYFBdimX9bJ7p07ZdyEh6VqjZo678Ud7Bx9dV4AFd+xdYts3bBBBg8fru+Y2tkrz1p/xQFf71q1ZJnEx6LBMILu37cHAu9kMVP5d0Mn+EEw3TgNFTITzKj7Hq1rbkcthUd8c6pA/UBp7Sa4Lyo0qkbPEh9/P+t0D9HX8hK14yEEGtl7b08XXx9fubFvX6lSw2wIj0KniY+N1TjsKHM/mqN7rLr06mk0qqIX48qCx61zJVmPX4e+Dsdux3ZQpz3KkKmgzkgL5tTpU/rWTiZinT4dpf4e6Jvc2Mz9mPc99KDOmWeAMBloN2qehM7f2Rn8BaAgqc19jjfdjDZAiZE2TyVZsXgx5AM3B8OLwk5HpyyJPB4hn3w4S6pWrwEh3VunforbeIyd+wlqcdRsI0+e0O98R9men80v7QKFHCcsK4QE6xYO7vU6DU0uIyNDRwcee1SvYUNp17GjvgbDtxW4VSQSleVkNQm7askS8Q8sLX0GDDBzZn+SyjyinBrlCNjz/W4bJIcOHZaT0BxLUHRQI0D3Ah8YkUWd2zjeX+AwoHF6giY1O4m2Hj6Kb/aYh7nEH1KpovrxuCMu3jD9E0eOwFT9Svr07ys1ateWGqGhGocbcaNoPeDZKAyw8z7/Qlp3aC8NmjRB2f4cL11O6KACGpgun/NHX3GCs2lbCHggRA8ICCoTnGvbuH49fM3Wo+/nz9fN9V6+PlZCRoHYuX0Hv0j58uXM9ia06l8GCJI77rxT/AIDNUuetcitZJyy0vbW9sEgCnmxEnLgwN59ctvQoVK5Bs/bM3QoDszwymdMuvzkm00xMedwByHXqJG45JrDvhAF1pxSulxwsM6BUICdxsjKLRcnIyLkl7U/ych7xoqHu6ceIOkJM4QbaKnJ8dBH7iBfs3KV3DZ8mAToWwwma2bGohavigbtO3WUcRMnyKNTn5WJz0yWMfffJ82bN7dCS1AkgPApiSkwX5IlOSEJ10R1ifh+kUtEeGKCvshOJiZ0DuwPjMLMl4NlFS5cwYObo7knULcVLFoiSclJMmrcXTofy7MFiQTkS+2dcX75cY1uFRj7wL06r8k0/xrj6+8H36/dCatm++ZfZYfldv66UXZtxHXjZok8dhT0Md0+f3PLSby9fSDQauq3PTt3aB+kP/cbXt+pk5SFILP7FAeyhJgY+X3LVv1eu0F9fX3Q7oN/HkZchtarI63bX6f8wIHvlx/XykEIM4XV6FzgWvDNN7pyPWj4EBhgLjr3bJe1WDAEshS1LNm3e7cubDIvngLDGxN0ceqFivfgCpws9tRKcLI4IzlF5n/1lb6vxxfJmSi3dfBFeILzKNT01ixfrmXq3P1GZKpZZyPvt6JBJ3eRDpnANqWyJ+NLUGRwTvP5yU/Jf8bdk8uNk0dwvdiN03DeT5v8tK4OFx9sbcN85Ie69c2bKzzt+NDBA/oWyvJFi2XoqFHiW6aMMjC3y7C9Kdy4H5HHjC+HltCxyw16pFY2MwMXs/PVBwqkoX37yaCePWVgzx6W6yUDeveWgdDO5syciVhmNbfg+lCXMbX+Zc2PGHQSlLQ83aZpixbaL2yQOrt2bIOVc0wXTNq2bw/PHJr9WZgyOomfX4B0Qf/2LGX20nLvIOuSxR9CsfDj8hU6rTX2gft04VGXbDQ4/9IwKD8aaP30EWvVG5F2bjPzcdxsX6teXdWYVYvMJ+1CpUS5oPL64jnBd0CPwv7/7ssv5IZu3aU0mJJJ+pcura9Y8Qtfpo9GvC/mfCztOnSQ4MpmcSB3try/uBiXhk5mamOZlR77rwRFR2amQ1+Xizp1Whdwclxkvu4UNAU6bsQ2IyRdcWFaiWMd9xPq6jbAkZir72eioqR331uRsnmXuVLVyuLr76/3e3btkEN79qj2MnjEcJgkHloM6j2apsa6usH5Tm5vcnWDFuPuqltQaD5yqxQPQKUpausBppPmB7OiyNN71q1di4hZEoD+N2TECB3s7W5gWsgBK2qFZKSm6ls0nMcz+Iuohfqo0ES5r+/SxRxRxpJnOWTJgh9kjy4GOCQWpuQHb02XOnXqSsduXRHF9NrCSsFQqyp5YPtyrp/3SUnJcjg8XKtUtlwQXI4me4FOpShUyHE1jHNuzONs1GmZ+fbbet+5e1c0HH+fFAngapsY/KWjz2fN1iNqumDEcvfwQpy/iLgl+FNgKwRWqCAzZs+RrxYvka+WGvfl0sXy1TLcX+gQ9vWSxXBL5N3Zs9E53ZECmbno7cmYdDbflasQJAEB5lfpwyG83n9zurTucJ3+FCTn2cjA/I2NKtw0jm8Rhw7pr5/VrltH6kLD05yzJwhz0r2awZNpFv34oyxfv0GWrVsvy9bDWdfl69fJ3Q8+hFhmICisPgxjvzp04KAStWWrVlJF39owYOdmX+PvB2+xTt6pVquWbmSmXDLE+/OgwLCTC6pUUfr0vzW74HyHe86770l6WorMm/uZhO/bLz369NEFJ8a3BycregGgODfp20W245tns/QFBdKCqAxTmIqWHcd+JjcKFXI8w4zzKOQr/mr7wvnfS7+Bg6QiX4i2wLk7voTPXLhi9tknc6T1de0wgsCchZ8hfgmuNAyDGFC74Kpppu4LM0sPFzn4c3XVnhpgY+ooaSdSRORuex5vXxbWAcHz23iyLs984w/52Fo553eronPyO99sWL1ihXSFecfV2bx89AcKcwXALRd8p7ICBHlwlap6RH4FuCDL+XH/qNa2YJDu7NwHMTDEnI1SLbBJy2t0QCDYP40ykSUnjh2VIwfD1VSt17CBasVmXMpLvb8C5KPBw4bpvLzxcOiPQi1dsEA+w2BaK7SWdO1xo66oav2sAaooraa8hoJzXyAXMLIBP66866nfqGPdsEbi4+cPjjWp5pd2oUKOqnSNUHNQYzoyovk6YMgQ3SCrIy9ThOOJtfzigDlElXLYmDHiDVvdAb/8Mi3BlYJDGc10BzNm6iyHtYcrj4O/vdlWm5lCztzBFQ/kbT7n4e2FQZNaGo+oSpFmLVtKEz3+nWmbUlGe8icB+Y2r9BUrVZHrbrhBO4q9wZr4YyW5/NC6o6AUCPafVlIHEvYhnamib4Eg7fkmzG6Y7UmJSfr6YYMmUCJgRWk4n1byOWTfrt262ZuvV/J3KPiLZJrfX0QsbUoF2wzaeXCwDL5zhPEC+PvA0yZP1vP5Bg0fBk0WShL+yEtaTqDwoph0yZY8T/KRe++T/RDuucHDLrggxqm0lm3biLuXeXOGsJ7OA9K3UNTlaST4o8C7Y/idUoGbNUE0FtR+mAdUcsSiVtcBpmzT1teicfkUa2a6RgmuPLQzKbOZe/NyO9rSAWft58p2iGHmQHKgjHoxDxUZFJ31qPUjdZ6bN/bee/XoKpaHeXFlkK+71W1Q37x36eIsAwffgY5ETQGxmPefyP/KgDTMu7DAfkF9OXcfKqxqnCLgWYl7du5UYcfDYOtCSxO+LqMw4oNHc+3eAUGIuD6+fvrTmFzRNLDj/jloGfHB/u0MPqGGf8uggZALRpvjq5PH9ofroRt9B98OJjPvCBcN1gKLDgJctDkmWzasl2hrXyDBecmtm34VHuLArSPtOnU0VXOgUKqyXkxFm8YFomqN6mpO1IAJ0eOWPnkIa8MXWltlmLWlAwP0p/7IoGRaRmG+F2dbgisB7VaqPZh7ZQne00+/53ZEThv/GTAt7RRIr3qtmnryS+cePaVZq2s0hxz+QGeFR1BwBT0Fmcd99RrUP4fliL+mSJcPVnnz62hFrRbD+EPWPMGDAo/nK/JNoryUE0lMTJS9EITcNF0+JERqwgozLWnmuf4KaDn1w+ISCCSaq526dcctB0hOOZSSsffdL766olocmDTtIYE/GsUpsPnzvpKNP/+kZ9h9OWeOHp1evXYteWzKFClbrrwpDxmHLp8cLyHknPTY8YpVK2slOImqSSjFrATxz02KoXXr6MF6PLXD9ucHWbsEVwfMeG+ahpqE3TK2WMvr8gE98w0oGDm6oLkLqVJFykMzGz52TM6PamtBTOIcFHlCNI/gGjZ6tASWL8dAk20x8746QKobyl+q+AWGgyaHjx6VszEx4uHjIx26dBV3dzfVrDlIaQTg7JkonefktzD0Qx7aatqYPn8N8bJTsZQYglNTXXr2FL/SpeHnpD/HyYN3s7X+bAF0KTAONUR+Oomru4cKynn/myt33T5UhvcbIK9MmSpNmzXXBbQWbfgD4BSs5FibZy/Op9Bf0CfDcSMwt400btJEQvVXiZAg0rGf4G5uKqQ/Ll8upSDBm9FUpalhhbOeRaleCf55IOMZM5Qi1egTPDhx3Y9r9NeveF6h/ioZOoDdZ2h1JCbGyeqFi6Vtx+ulNASeHq75L2YitcIAlyz+TDq+gxh8Jc+ITvVR+vGnGEfddpue6DPjk0+k94CBFt2oG+X0yb8DCefPy229e+spJU++OE3uGD1GT9vRMhax8axqmlqxzVFqB+RP+P79EnH8uGQ6HFI7NFR/YN1BMxiEyaEBs8k/n8KFHBwfyx6N1YNSM7eQM/fMkLHNyMKsrWdK8C+G4Zzc3MA7dkh+58ZuGzY/0VBhKEdzbvAkv+laSP78+6+B6V6GiuYzx0ZSLQYC4MnxE+TD6W/p0VhLf1knIdwZobH/XiGnOTgy9feNZ77zjrw/9zMJqVpNXwksTsNpdPtGS24GSfVAgBkIlYM0iomLb5fIo8B6m6Txqf8mYcplm21tZN8hIwo4fjdFKEEJyJKGI8yn8aMWQn4h89mOMFxDTiMvmWeVx63O/W+G6cf8oN3EvxyQOkmJibJuzRr93iAsTH+Q6nJRjWXhKUNde/WWx597TkIqmxOvi4vsZtYE8QVXpkPxTGuAd+QOnbGzkr+UgCMKEe7MEUlSUjI/LYDZIqJh1kXLwyALdlwGm1G5BCUwMDxUGMjCtrN5y0xC/7thaKD0yHKYPqY0MSoHr0ePHJF9e/aIE8z/jl0661sWJoZNx78XLI+3v6+07dhBFx61rfXDlLDIsKLbT7HcF6ZCUecCOhQ1baeTaen649MXPmBrZRemky1Bi5Z+CUoA2Kx6CVi8lSdqfn4lUFDL0XVTdPiZr74uzz76mPgFlJbZ876WVu2uU9pdVvJdlW0l8n9Tjsd/VkiWkQAAAABJRU5ErkJggg==)"
      ],
      "metadata": {
        "id": "PhyC_LVnsENH"
      }
    },
    {
      "cell_type": "code",
      "source": [
        "# Prepare random weights + b in consideration\n",
        "W = np.random.rand(1, X_train.shape[1] + 1)\n",
        "W"
      ],
      "metadata": {
        "id": "w00wmEIhNQek",
        "colab": {
          "base_uri": "https://localhost:8080/"
        },
        "outputId": "82d9add5-ca5b-47b3-a764-c572dfc6df3d"
      },
      "execution_count": null,
      "outputs": [
        {
          "output_type": "execute_result",
          "data": {
            "text/plain": [
              "array([[0.73783063, 0.87287638, 0.57128636, 0.21682562, 0.42261715,\n",
              "        0.00600666, 0.57546499, 0.55840803, 0.60872289, 0.63208052,\n",
              "        0.84072878, 0.88434564, 0.29625467, 0.36318419]])"
            ]
          },
          "metadata": {},
          "execution_count": 832
        }
      ]
    },
    {
      "cell_type": "code",
      "source": [
        "# Agumnet X_train\n",
        "ones_column = np.ones((X_train.shape[0], 1))\n",
        "X_train = np.hstack((X_train, ones_column))\n",
        "X_train.shape"
      ],
      "metadata": {
        "colab": {
          "base_uri": "https://localhost:8080/"
        },
        "id": "AWmu1rpQXRgM",
        "outputId": "10414dde-f803-493b-a60c-8db64d3db268"
      },
      "execution_count": null,
      "outputs": [
        {
          "output_type": "execute_result",
          "data": {
            "text/plain": [
              "(242, 14)"
            ]
          },
          "metadata": {},
          "execution_count": 833
        }
      ]
    },
    {
      "cell_type": "code",
      "source": [
        "# Sigmoid prediction fun\n",
        "def get_y_pred(W, X):\n",
        "  return 1 / (1 + np.exp( -np.dot(W, X.T)))"
      ],
      "metadata": {
        "id": "fp6A6X-oWbfj"
      },
      "execution_count": null,
      "outputs": []
    },
    {
      "cell_type": "code",
      "source": [
        "LR = 0.1\n",
        "ephocs = 1000\n",
        "for j in range(ephocs):\n",
        "  # iterate for more than one ephocs times\n",
        "  Delta_J_W = np.zeros(W.shape)\n",
        "  for i in range(X_train.shape[0]):\n",
        "    y_pred = get_y_pred(W, X_train[i])\n",
        "    error = y_pred - y_train[i]\n",
        "    Delta_J_W += X_train[i] * error  # Equation 1\n",
        "  W -= LR * Delta_J_W / X_train.shape[0]  # Equation 2"
      ],
      "metadata": {
        "id": "lOEkYQQvUGvG"
      },
      "execution_count": null,
      "outputs": []
    },
    {
      "cell_type": "markdown",
      "source": [
        "# Evaluation"
      ],
      "metadata": {
        "id": "Ckk389-smxhR"
      }
    },
    {
      "cell_type": "code",
      "source": [
        "ones_column_test = np.ones((X_test.shape[0], 1))\n",
        "X_test = np.hstack((X_test, ones_column_test))\n",
        "\n",
        "y_pred_prob = get_y_pred(W, X_test)\n",
        "y_pred = (y_pred_prob >= 0.5).astype(int)\n",
        "\n",
        "accuracy = np.mean(y_pred[0] == y_test)\n",
        "print(f'Accuracy: {accuracy * 100} %')"
      ],
      "metadata": {
        "colab": {
          "base_uri": "https://localhost:8080/"
        },
        "id": "M8s8qqoEaNT7",
        "outputId": "cbfa96aa-aed9-41cf-f3a7-193143852cc1"
      },
      "execution_count": null,
      "outputs": [
        {
          "output_type": "stream",
          "name": "stdout",
          "text": [
            "Accuracy: 88.52459016393442 %\n"
          ]
        }
      ]
    },
    {
      "cell_type": "code",
      "source": [
        "precision = precision_score(y_test, y_pred[0], average='macro')\n",
        "recall = recall_score(y_test, y_pred[0], average='macro')\n",
        "f1_score_val = f1_score(y_test, y_pred[0], average='macro')\n",
        "print(\"Precision:\", precision)\n",
        "print(\"Recall:\", recall)\n",
        "print(\"F1 Score:\", f1_score_val)"
      ],
      "metadata": {
        "colab": {
          "base_uri": "https://localhost:8080/"
        },
        "id": "0v6XinCUbN2f",
        "outputId": "73454044-20c3-477b-818f-2b0fba86e56a"
      },
      "execution_count": null,
      "outputs": [
        {
          "output_type": "stream",
          "name": "stdout",
          "text": [
            "Precision: 0.8858225108225108\n",
            "Recall: 0.8841594827586207\n",
            "F1 Score: 0.8847503373819163\n"
          ]
        }
      ]
    },
    {
      "cell_type": "code",
      "source": [],
      "metadata": {
        "id": "WeHtUmwnpjeL"
      },
      "execution_count": null,
      "outputs": []
    },
    {
      "cell_type": "markdown",
      "source": [
        "# Discussion"
      ],
      "metadata": {
        "id": "uu34qqYjqVF2"
      }
    },
    {
      "cell_type": "markdown",
      "source": [
        "**Data cleaning:**  \n",
        "*   There we one duplicate\n",
        "\n",
        "**Insights:**  \n",
        "*   in some point increasing num of ephocs does not effect the model\n",
        "*   The best hiper parameters I reached is what I used for LR and epochs\n",
        "* when icreasing the epochs so much the model overfits\n"
      ],
      "metadata": {
        "id": "wFJc_zykqW34"
      }
    }
  ]
}